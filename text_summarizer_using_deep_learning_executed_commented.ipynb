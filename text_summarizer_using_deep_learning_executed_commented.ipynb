{
 "cells": [
  {
   "cell_type": "markdown",
   "metadata": {
    "id": "B9__vAdMylcN"
   },
   "source": [
    "In this Notebook we'll build an Text Summarizer using Deep Learning from Scratch using Python, This Summarizer uses Abstractive text summarization approach."
   ]
  },
  {
   "cell_type": "markdown",
   "metadata": {
    "id": "F5dSoP8lGMZi"
   },
   "source": [
    "#Understanding the Problem Statement\n",
    "\n",
    "Text related to Technology and can often be long and descriptive. Analyzing these manually, as you can imagine, is a tideous task. This is where we will use Natural Language Processing to make our task of understanding the long text more comfortably, here we will apply NLP to generate a summary for long Texts.\n",
    "\n",
    "We will be working on a really cool dataset. Our objective here is to generate a summary for the  text and more specifically Tech related using the abstractive Text Sumarization-based approach.\n",
    "\n"
   ]
  },
  {
   "cell_type": "markdown",
   "metadata": {
    "id": "rcPZzSnX0jmW"
   },
   "source": [
    "\n",
    "#Custom Attention Layer\n",
    "\n",
    "Keras does not officially support attention layer. So we are left with two choices we can either implement our own attention layer or use a third-party implementation. Since there will many compatibility issues when used thrid party attention layers we will implement our own.\n"
   ]
  },
  {
   "cell_type": "code",
   "execution_count": null,
   "metadata": {
    "colab": {
     "base_uri": "https://localhost:8080/"
    },
    "id": "Fr26UtEibrmP",
    "outputId": "f55932c9-2cd5-4bb8-cc55-a8e29b06de03"
   },
   "outputs": [
    {
     "name": "stdout",
     "output_type": "stream",
     "text": [
      "Looking in indexes: https://pypi.org/simple, https://us-python.pkg.dev/colab-wheels/public/simple/\n",
      "Collecting keras-attention\n",
      "  Downloading keras_attention-1.0.0-py3-none-any.whl (7.0 kB)\n",
      "Requirement already satisfied: keras in /usr/local/lib/python3.7/dist-packages (from keras-attention) (2.9.0)\n",
      "Installing collected packages: keras-attention\n",
      "Successfully installed keras-attention-1.0.0\n"
     ]
    }
   ],
   "source": [
    "!pip install keras-attention"
   ]
  },
  {
   "cell_type": "markdown",
   "metadata": {
    "id": "5IwKI-M8Ig4V"
   },
   "source": [
    "#Attention Layer\n",
    "\n",
    "Attention Mechanism is used when we want to give importance to certain words in the text than others that is we can add weights to some words in the text, so instead of looking at all the words in the input sequence our model can specifically look for such important words which can helkp us provide our output sentance"
   ]
  },
  {
   "cell_type": "code",
   "execution_count": null,
   "metadata": {
    "id": "sZRrvUaA1cXj"
   },
   "outputs": [],
   "source": [
    "import tensorflow as tf #importing tensorflow and keras\n",
    "from tensorflow.python.keras import backend as K\n",
    "\n",
    "logger = tf.get_logger()\n",
    "\n",
    "class AttentionLayer(tf.keras.layers.Layer):  #Creating attention layer class\n",
    "    \"\"\"\n",
    "    This class implements Bahdanau attention (https://arxiv.org/pdf/1409.0473.pdf).\n",
    "    There are three sets of weights introduced W_a, U_a, and V_a\n",
    "     \"\"\"\n",
    "\n",
    "    def __init__(self, **kwargs): #constructor for AttentionLayer class\n",
    "        super(AttentionLayer, self).__init__(**kwargs)\n",
    "\n",
    "    def build(self, input_shape):\n",
    "        assert isinstance(input_shape, list)\n",
    "        # Create a trainable weight variable for this layer.\n",
    "\n",
    "        self.W_a = self.add_weight(name='W_a',\n",
    "                                   shape=tf.TensorShape((input_shape[0][2], input_shape[0][2])),\n",
    "                                   initializer='uniform',\n",
    "                                   trainable=True)\n",
    "        self.U_a = self.add_weight(name='U_a',\n",
    "                                   shape=tf.TensorShape((input_shape[1][2], input_shape[0][2])),\n",
    "                                   initializer='uniform',\n",
    "                                   trainable=True)\n",
    "        self.V_a = self.add_weight(name='V_a',\n",
    "                                   shape=tf.TensorShape((input_shape[0][2], 1)),\n",
    "                                   initializer='uniform',\n",
    "                                   trainable=True)\n",
    "\n",
    "        super(AttentionLayer, self).build(input_shape)  # we will call this function  at the end\n",
    "\n",
    "    def call(self, inputs):\n",
    "        \"\"\"\n",
    "        inputs: [encoder_output_sequence, decoder_output_sequence]\n",
    "        \"\"\"\n",
    "        assert type(inputs) == list\n",
    "        encoder_out_seq, decoder_out_seq = inputs\n",
    "\n",
    "        logger.debug(f\"encoder_out_seq.shape = {encoder_out_seq.shape}\")\n",
    "        logger.debug(f\"decoder_out_seq.shape = {decoder_out_seq.shape}\")\n",
    "\n",
    "        def energy_step(inputs, states):\n",
    "            \"\"\" Step function for computing energy for a single decoder state\n",
    "            inputs: (batchsize * 1 * de_in_dim)\n",
    "            states: (batchsize * 1 * de_latent_dim)\n",
    "            \"\"\"\n",
    "\n",
    "            logger.debug(\"Running energy computation step\")\n",
    "\n",
    "            if not isinstance(states, (list, tuple)):\n",
    "                raise TypeError(f\"States must be an iterable. Got {states} of type {type(states)}\")\n",
    "\n",
    "            encoder_full_seq = states[-1]\n",
    "\n",
    "            \"\"\" Computing S.Wa where S=[s0, s1, ..., si]\"\"\"\n",
    "            # <= batch size * en_seq_len * latent_dim\n",
    "            W_a_dot_s = K.dot(encoder_full_seq, self.W_a)\n",
    "\n",
    "            \"\"\" Computing hj.Ua \"\"\"\n",
    "            U_a_dot_h = K.expand_dims(K.dot(inputs, self.U_a), 1)  # <= batch_size, 1, latent_dim\n",
    "\n",
    "            logger.debug(f\"U_a_dot_h.shape = {U_a_dot_h.shape}\")\n",
    "\n",
    "            \"\"\" tanh(S.Wa + hj.Ua) \"\"\"\n",
    "            # <= batch_size*en_seq_len, latent_dim\n",
    "            Ws_plus_Uh = K.tanh(W_a_dot_s + U_a_dot_h)\n",
    "\n",
    "            logger.debug(f\"Ws_plus_Uh.shape = {Ws_plus_Uh.shape}\")\n",
    "\n",
    "            \"\"\" softmax(va.tanh(S.Wa + hj.Ua)) \"\"\"\n",
    "            # <= batch_size, en_seq_len\n",
    "            e_i = K.squeeze(K.dot(Ws_plus_Uh, self.V_a), axis=-1)\n",
    "            # <= batch_size, en_seq_len\n",
    "            e_i = K.softmax(e_i)\n",
    "\n",
    "            logger.debug(f\"ei.shape = {e_i.shape}\")\n",
    "\n",
    "            return e_i, [e_i]\n",
    "\n",
    "        def context_step(inputs, states):\n",
    "            \"\"\" Step function for computing ci using ei \"\"\"\n",
    "\n",
    "            logger.debug(\"Running attention vector computation step\")\n",
    "\n",
    "            if not isinstance(states, (list, tuple)):\n",
    "                raise TypeError(f\"States must be an iterable. Got {states} of type {type(states)}\")\n",
    "\n",
    "            encoder_full_seq = states[-1]\n",
    "\n",
    "            # <= batch_size, hidden_size\n",
    "            c_i = K.sum(encoder_full_seq * K.expand_dims(inputs, -1), axis=1)\n",
    "\n",
    "            logger.debug(f\"ci.shape = {c_i.shape}\")\n",
    "\n",
    "            return c_i, [c_i]\n",
    "\n",
    "        # we don't maintain states between steps when computing attention\n",
    "        # attention is stateless, so we're passing a fake state for RNN step function\n",
    "        fake_state_c = K.sum(encoder_out_seq, axis=1)\n",
    "        fake_state_e = K.sum(encoder_out_seq, axis=2)  # <= (batch_size, enc_seq_len, latent_dim\n",
    "\n",
    "        \"\"\" Computing energy outputs \"\"\"\n",
    "        # e_outputs => (batch_size, de_seq_len, en_seq_len)\n",
    "        last_out, e_outputs, _ = K.rnn(\n",
    "            energy_step, decoder_out_seq, [fake_state_e], constants=[encoder_out_seq]\n",
    "        )\n",
    "\n",
    "        \"\"\" Computing context vectors \"\"\"\n",
    "        last_out, c_outputs, _ = K.rnn(\n",
    "            context_step, e_outputs, [fake_state_c], constants=[encoder_out_seq]\n",
    "        )\n",
    "\n",
    "        return c_outputs, e_outputs\n",
    "\n",
    "    def compute_output_shape(self, input_shape):\n",
    "        \"\"\" Outputs produced by the layer \"\"\"\n",
    "        return [\n",
    "            tf.TensorShape((input_shape[1][0], input_shape[1][1], input_shape[1][2])),\n",
    "            tf.TensorShape((input_shape[1][0], input_shape[1][1], input_shape[0][1]))\n",
    "        ]"
   ]
  },
  {
   "cell_type": "markdown",
   "metadata": {
    "id": "JUValOzcHtEK"
   },
   "source": [
    "#Import the Libraries"
   ]
  },
  {
   "cell_type": "code",
   "execution_count": null,
   "metadata": {
    "_cell_guid": "b1076dfc-b9ad-4769-8c92-a6c4dae69d19",
    "_uuid": "8f2839f25d086af736a60e9eeb907d3b93b6e0e5",
    "id": "_Jpu8qLEFxcY"
   },
   "outputs": [],
   "source": [
    "import numpy as np\n",
    "import pandas as pd \n",
    "import re\n",
    "from bs4 import BeautifulSoup\n",
    "from keras.preprocessing.text import Tokenizer \n",
    "from keras_preprocessing.sequence import pad_sequences\n",
    "from nltk.corpus import stopwords\n",
    "from tensorflow.keras.layers import Input, LSTM, Embedding, Dense, Concatenate, TimeDistributed\n",
    "from tensorflow.keras.models import Model\n",
    "from tensorflow.keras.callbacks import EarlyStopping\n",
    "import warnings\n",
    "pd.set_option(\"display.max_colwidth\", 200)\n",
    "warnings.filterwarnings(\"ignore\")"
   ]
  },
  {
   "cell_type": "markdown",
   "metadata": {
    "id": "UVakjZ3oICgx"
   },
   "source": [
    "#Read the dataset\n",
    "\n",
    "This dataset contains text of more than 500,000\n",
    "We’ll take a sample of 200,000 reviews to reduce the training time of our model since our machine does not have that kind of computational power."
   ]
  },
  {
   "cell_type": "code",
   "execution_count": null,
   "metadata": {
    "colab": {
     "base_uri": "https://localhost:8080/"
    },
    "id": "XhmArN8KelLF",
    "outputId": "ff27efee-f76a-478d-da62-af870513ae82"
   },
   "outputs": [
    {
     "name": "stdout",
     "output_type": "stream",
     "text": [
      "Mounted at /content/drive\n"
     ]
    }
   ],
   "source": [
    "from google.colab import drive\n",
    "drive.mount('/content/drive')"
   ]
  },
  {
   "cell_type": "code",
   "execution_count": null,
   "metadata": {
    "id": "wnK5o4Z1Fxcj"
   },
   "outputs": [],
   "source": [
    "data=pd.read_csv(\"/content/drive/MyDrive/NLP/School_text.csv\",nrows=200000)"
   ]
  },
  {
   "cell_type": "markdown",
   "metadata": {
    "id": "kGNQKvCaISIn"
   },
   "source": [
    "# Drop Duplicates and NA values"
   ]
  },
  {
   "cell_type": "code",
   "execution_count": null,
   "metadata": {
    "id": "Cjul88oOFxcr"
   },
   "outputs": [],
   "source": [
    "data.drop_duplicates(subset=['Text'],inplace=True)#dropping duplicates\n",
    "data.dropna(axis=0,inplace=True)#dropping na"
   ]
  },
  {
   "cell_type": "markdown",
   "metadata": {
    "id": "qi0xD6BkIWAm"
   },
   "source": [
    "# Information about dataset\n",
    "\n",
    "Let us look at datatypes and shape of the dataset"
   ]
  },
  {
   "cell_type": "code",
   "execution_count": null,
   "metadata": {
    "colab": {
     "base_uri": "https://localhost:8080/"
    },
    "id": "__fy-JxTFxc9",
    "outputId": "2be00849-30cf-470e-d3e3-6c1dabe90f5c"
   },
   "outputs": [
    {
     "name": "stdout",
     "output_type": "stream",
     "text": [
      "<class 'pandas.core.frame.DataFrame'>\n",
      "Int64Index: 162834 entries, 0 to 199999\n",
      "Data columns (total 10 columns):\n",
      " #   Column                  Non-Null Count   Dtype \n",
      "---  ------                  --------------   ----- \n",
      " 0   Id                      162834 non-null  int64 \n",
      " 1   ProductId               162834 non-null  object\n",
      " 2   UserId                  162834 non-null  object\n",
      " 3   ProfileName             162834 non-null  object\n",
      " 4   HelpfulnessNumerator    162834 non-null  int64 \n",
      " 5   HelpfulnessDenominator  162834 non-null  int64 \n",
      " 6   Score                   162834 non-null  int64 \n",
      " 7   Time                    162834 non-null  int64 \n",
      " 8   Summary                 162834 non-null  object\n",
      " 9   Text                    162834 non-null  object\n",
      "dtypes: int64(5), object(5)\n",
      "memory usage: 13.7+ MB\n"
     ]
    }
   ],
   "source": [
    "data.info() #get an information about the Dataset"
   ]
  },
  {
   "cell_type": "markdown",
   "metadata": {
    "id": "r0xLYACiFxdJ"
   },
   "source": [
    "#Data Preprocessing\n",
    "\n",
    "Performing basic preprocessing steps is very important before we get to the model building part. Using messy and uncleaned text data is a potentially disastrous move. So in this step, we will drop all the unwanted symbols, characters, etc. from the text that do not affect the objective of our problem.\n",
    "\n",
    "Here  we will create a dictionary that we will use for expanding the contractions:"
   ]
  },
  {
   "cell_type": "code",
   "execution_count": null,
   "metadata": {
    "id": "0s6IY-x2FxdL"
   },
   "outputs": [],
   "source": [
    "contraction_mapping = {\"ain't\": \"is not\", \"aren't\": \"are not\",\"can't\": \"cannot\", \"'cause\": \"because\", \"could've\": \"could have\", \"couldn't\": \"could not\",\n",
    "                           \"didn't\": \"did not\",  \"doesn't\": \"does not\", \"don't\": \"do not\", \"hadn't\": \"had not\", \"hasn't\": \"has not\", \"haven't\": \"have not\",\n",
    "                           \"he'd\": \"he would\",\"he'll\": \"he will\", \"he's\": \"he is\", \"how'd\": \"how did\", \"how'd'y\": \"how do you\", \"how'll\": \"how will\", \"how's\": \"how is\",\n",
    "                           \"I'd\": \"I would\", \"I'd've\": \"I would have\", \"I'll\": \"I will\", \"I'll've\": \"I will have\",\"I'm\": \"I am\", \"I've\": \"I have\", \"i'd\": \"i would\",\n",
    "                           \"i'd've\": \"i would have\", \"i'll\": \"i will\",  \"i'll've\": \"i will have\",\"i'm\": \"i am\", \"i've\": \"i have\", \"isn't\": \"is not\", \"it'd\": \"it would\",\n",
    "                           \"it'd've\": \"it would have\", \"it'll\": \"it will\", \"it'll've\": \"it will have\",\"it's\": \"it is\", \"let's\": \"let us\", \"ma'am\": \"madam\",\n",
    "                           \"mayn't\": \"may not\", \"might've\": \"might have\",\"mightn't\": \"might not\",\"mightn't've\": \"might not have\", \"must've\": \"must have\",\n",
    "                           \"mustn't\": \"must not\", \"mustn't've\": \"must not have\", \"needn't\": \"need not\", \"needn't've\": \"need not have\",\"o'clock\": \"of the clock\",\n",
    "                           \"oughtn't\": \"ought not\", \"oughtn't've\": \"ought not have\", \"shan't\": \"shall not\", \"sha'n't\": \"shall not\", \"shan't've\": \"shall not have\",\n",
    "                           \"she'd\": \"she would\", \"she'd've\": \"she would have\", \"she'll\": \"she will\", \"she'll've\": \"she will have\", \"she's\": \"she is\",\n",
    "                           \"should've\": \"should have\", \"shouldn't\": \"should not\", \"shouldn't've\": \"should not have\", \"so've\": \"so have\",\"so's\": \"so as\",\n",
    "                           \"this's\": \"this is\",\"that'd\": \"that would\", \"that'd've\": \"that would have\", \"that's\": \"that is\", \"there'd\": \"there would\",\n",
    "                           \"there'd've\": \"there would have\", \"there's\": \"there is\", \"here's\": \"here is\",\"they'd\": \"they would\", \"they'd've\": \"they would have\",\n",
    "                           \"they'll\": \"they will\", \"they'll've\": \"they will have\", \"they're\": \"they are\", \"they've\": \"they have\", \"to've\": \"to have\",\n",
    "                           \"wasn't\": \"was not\", \"we'd\": \"we would\", \"we'd've\": \"we would have\", \"we'll\": \"we will\", \"we'll've\": \"we will have\", \"we're\": \"we are\",\n",
    "                           \"we've\": \"we have\", \"weren't\": \"were not\", \"what'll\": \"what will\", \"what'll've\": \"what will have\", \"what're\": \"what are\",\n",
    "                           \"what's\": \"what is\", \"what've\": \"what have\", \"when's\": \"when is\", \"when've\": \"when have\", \"where'd\": \"where did\", \"where's\": \"where is\",\n",
    "                           \"where've\": \"where have\", \"who'll\": \"who will\", \"who'll've\": \"who will have\", \"who's\": \"who is\", \"who've\": \"who have\",\n",
    "                           \"why's\": \"why is\", \"why've\": \"why have\", \"will've\": \"will have\", \"won't\": \"will not\", \"won't've\": \"will not have\",\n",
    "                           \"would've\": \"would have\", \"wouldn't\": \"would not\", \"wouldn't've\": \"would not have\", \"y'all\": \"you all\",\n",
    "                           \"y'all'd\": \"you all would\",\"y'all'd've\": \"you all would have\",\"y'all're\": \"you all are\",\"y'all've\": \"you all have\",\n",
    "                           \"you'd\": \"you would\", \"you'd've\": \"you would have\", \"you'll\": \"you will\", \"you'll've\": \"you will have\",\n",
    "                           \"you're\": \"you are\", \"you've\": \"you have\"}"
   ]
  },
  {
   "cell_type": "markdown",
   "metadata": {
    "id": "2JFRXFHmI7Mj"
   },
   "source": [
    "We will perform the below preprocessing tasks for our data:\n",
    "\n",
    "1.Convert everything to lowercase\n",
    "\n",
    "2.Remove HTML tags\n",
    "\n",
    "3.Contraction mapping\n",
    "\n",
    "4.Remove (‘s)\n",
    "\n",
    "5.Remove any text inside the parenthesis ( )\n",
    "\n",
    "6.Eliminate punctuations and special characters\n",
    "\n",
    "7.Remove stopwords\n",
    "\n",
    "8.Remove short words\n",
    "\n",
    "Let’s define the function:"
   ]
  },
  {
   "cell_type": "code",
   "execution_count": null,
   "metadata": {
    "colab": {
     "base_uri": "https://localhost:8080/"
    },
    "id": "72oIyxJdfz2B",
    "outputId": "c8fd796a-3025-4015-f545-31266a23b603"
   },
   "outputs": [
    {
     "name": "stderr",
     "output_type": "stream",
     "text": [
      "[nltk_data] Downloading package stopwords to /root/nltk_data...\n",
      "[nltk_data]   Unzipping corpora/stopwords.zip.\n"
     ]
    },
    {
     "data": {
      "text/plain": [
       "True"
      ]
     },
     "execution_count": 9,
     "metadata": {},
     "output_type": "execute_result"
    }
   ],
   "source": [
    "import nltk\n",
    "nltk.download('stopwords') #download Stopwords"
   ]
  },
  {
   "cell_type": "code",
   "execution_count": null,
   "metadata": {
    "id": "XZr-u3OEFxdT"
   },
   "outputs": [],
   "source": [
    "stop_words = set(stopwords.words('english')) \n",
    "\n",
    "def text_cleaner(text,num):  #Text cleaning function for preprocessing our raw text\n",
    "    newString = text.lower()\n",
    "    newString = BeautifulSoup(newString, \"lxml\").text\n",
    "    newString = re.sub(r'\\([^)]*\\)', '', newString)\n",
    "    newString = re.sub('\"','', newString)\n",
    "    newString = ' '.join([contraction_mapping[t] if t in contraction_mapping else t for t in newString.split(\" \")])    \n",
    "    newString = re.sub(r\"'s\\b\",\"\",newString)\n",
    "    newString = re.sub(\"[^a-zA-Z]\", \" \", newString) \n",
    "    newString = re.sub('[m]{2,}', 'mm', newString)\n",
    "    if(num==0):\n",
    "        tokens = [w for w in newString.split() if not w in stop_words]\n",
    "    else:\n",
    "        tokens=newString.split()\n",
    "    long_words=[]\n",
    "    for i in tokens:\n",
    "        if len(i)>1:                                                 #removing short word\n",
    "            long_words.append(i)   \n",
    "    return (\" \".join(long_words)).strip()"
   ]
  },
  {
   "cell_type": "code",
   "execution_count": null,
   "metadata": {
    "id": "A2QAeCHWFxdY"
   },
   "outputs": [],
   "source": [
    "#call the function\n",
    "cleaned_text = []\n",
    "for t in data['Text']:\n",
    "    cleaned_text.append(text_cleaner(t,0)) "
   ]
  },
  {
   "cell_type": "markdown",
   "metadata": {
    "id": "snRZY8wjLao2"
   },
   "source": [
    "Let us look at the first five preprocessed reviews"
   ]
  },
  {
   "cell_type": "code",
   "execution_count": null,
   "metadata": {
    "colab": {
     "base_uri": "https://localhost:8080/"
    },
    "id": "NCAIkhWbFxdh",
    "outputId": "f920e13c-9e05-4223-f5bf-fdb2d2cca3f9"
   },
   "outputs": [
    {
     "data": {
      "text/plain": [
       "['bought several vitality canned dog food products found good quality product looks like stew processed meat smells better labrador finicky appreciates product better',\n",
       " 'product arrived labeled jumbo salted peanuts peanuts actually small sized unsalted sure error vendor intended represent product jumbo',\n",
       " 'confection around centuries light pillowy citrus gelatin nuts case filberts cut tiny squares liberally coated powdered sugar tiny mouthful heaven chewy flavorful highly recommend yummy treat familiar story lewis lion witch wardrobe treat seduces edmund selling brother sisters witch',\n",
       " 'looking secret ingredient robitussin believe found got addition root beer extract ordered made cherry soda flavor medicinal',\n",
       " 'great taffy great price wide assortment yummy taffy delivery quick taffy lover deal']"
      ]
     },
     "execution_count": 12,
     "metadata": {},
     "output_type": "execute_result"
    }
   ],
   "source": [
    "cleaned_text[:5]  "
   ]
  },
  {
   "cell_type": "code",
   "execution_count": null,
   "metadata": {
    "id": "GsRXocxoFxd-"
   },
   "outputs": [],
   "source": [
    "#call the function\n",
    "cleaned_summary = [] #intialize empty list for storing the cleaned summary\n",
    "for t in data['Summary']:\n",
    "    cleaned_summary.append(text_cleaner(t,1))"
   ]
  },
  {
   "cell_type": "markdown",
   "metadata": {
    "id": "oZeD0gs6Lnb-"
   },
   "source": [
    "Let us look at the first 10 preprocessed summaries"
   ]
  },
  {
   "cell_type": "code",
   "execution_count": null,
   "metadata": {
    "colab": {
     "base_uri": "https://localhost:8080/"
    },
    "id": "jQJdZcAzFxee",
    "outputId": "ebfae2f2-eee9-4bf1-9349-3e42511f1e5e"
   },
   "outputs": [
    {
     "data": {
      "text/plain": [
       "['good quality dog food',\n",
       " 'not as advertised',\n",
       " 'delight says it all',\n",
       " 'cough medicine',\n",
       " 'great taffy',\n",
       " 'nice taffy',\n",
       " 'great just as good as the expensive brands',\n",
       " 'wonderful tasty taffy',\n",
       " 'yay barley',\n",
       " 'healthy dog food']"
      ]
     },
     "execution_count": 14,
     "metadata": {},
     "output_type": "execute_result"
    }
   ],
   "source": [
    "cleaned_summary[:10]"
   ]
  },
  {
   "cell_type": "code",
   "execution_count": null,
   "metadata": {
    "id": "L1zLpnqsFxey"
   },
   "outputs": [],
   "source": [
    "data['cleaned_text']=cleaned_text\n",
    "data['cleaned_summary']=cleaned_summary"
   ]
  },
  {
   "cell_type": "markdown",
   "metadata": {
    "id": "KT_D2cLiLy77"
   },
   "source": [
    "#Drop empty rows"
   ]
  },
  {
   "cell_type": "code",
   "execution_count": null,
   "metadata": {
    "id": "sYK390unFxfA"
   },
   "outputs": [],
   "source": [
    "data.replace('', np.nan, inplace=True)\n",
    "data.dropna(axis=0,inplace=True)"
   ]
  },
  {
   "cell_type": "markdown",
   "metadata": {
    "id": "Vm8Fk2TCL7Sp"
   },
   "source": [
    "#Understanding the distribution of the sequences\n",
    "\n",
    "Here, we will analyze the length of the Text and the summary to get an idea about the length of the text. we will then use this to fix the maximum length of the sequence:"
   ]
  },
  {
   "cell_type": "code",
   "execution_count": null,
   "metadata": {
    "colab": {
     "base_uri": "https://localhost:8080/",
     "height": 281
    },
    "id": "MdF76AHHFxgw",
    "outputId": "5cfa1133-37d2-4559-fb4c-64b347180430"
   },
   "outputs": [
    {
     "data": {
      "image/png": "[encoded data removed]",
      "text/plain": [
       "<Figure size 432x288 with 2 Axes>"
      ]
     },
     "metadata": {
      "needs_background": "light"
     },
     "output_type": "display_data"
    }
   ],
   "source": [
    "import matplotlib.pyplot as plt\n",
    "\n",
    "text_word_count = []\n",
    "summary_word_count = []\n",
    "\n",
    "# populate the lists with sentence lengths\n",
    "for i in data['cleaned_text']:\n",
    "      text_word_count.append(len(i.split()))\n",
    "\n",
    "for i in data['cleaned_summary']:\n",
    "      summary_word_count.append(len(i.split()))\n",
    "\n",
    "length_df = pd.DataFrame({'text':text_word_count, 'summary':summary_word_count})\n",
    "\n",
    "length_df.hist(bins = 30)\n",
    "plt.show() #plotting the distribution"
   ]
  },
  {
   "cell_type": "markdown",
   "metadata": {
    "id": "QwdSGIhGMEbz"
   },
   "source": [
    "Interesting. We can fix the maximum length of the summary to 8 since that seems to be the majority summary length.\n",
    "\n",
    "Let us understand the proportion of the length of summaries below 8"
   ]
  },
  {
   "cell_type": "code",
   "execution_count": null,
   "metadata": {
    "colab": {
     "base_uri": "https://localhost:8080/"
    },
    "id": "7JRjwdIOFxg3",
    "outputId": "c2c71354-0b53-4641-989e-4d0094cf3d1b"
   },
   "outputs": [
    {
     "name": "stdout",
     "output_type": "stream",
     "text": [
      "0.943955449561134\n"
     ]
    }
   ],
   "source": [
    "unt=0\n",
    "for i in data['cleaned_summary']:\n",
    "    if(len(i.split())<=8):\n",
    "        unt=unt+1\n",
    "print(unt/len(data['cleaned_summary']))"
   ]
  },
  {
   "cell_type": "markdown",
   "metadata": {
    "id": "yYB4Ga9KMjEu"
   },
   "source": [
    "We observe that 94% of the summaries have length below 8. So, we can fix maximum length of summary to 8.\n",
    "\n",
    "Let us fix the maximum length of text to 30"
   ]
  },
  {
   "cell_type": "code",
   "execution_count": null,
   "metadata": {
    "id": "ZKD5VOWqFxhC"
   },
   "outputs": [],
   "source": [
    "max_text_len=30 #setting the length of text \n",
    "max_summary_len=8 #setting the length of summary to be genrated to 8"
   ]
  },
  {
   "cell_type": "markdown",
   "metadata": {
    "id": "E6d48E-8M4VO"
   },
   "source": [
    "Let us select the text and summaries whose length falls below or equal to **max_text_len** and **max_summary_len**"
   ]
  },
  {
   "cell_type": "code",
   "execution_count": null,
   "metadata": {
    "id": "yY0tEJP0FxhI"
   },
   "outputs": [],
   "source": [
    "cleaned_text =np.array(data['cleaned_text'])\n",
    "cleaned_summary=np.array(data['cleaned_summary']). #converting our Lists to numpy arrays\n",
    "\n",
    "short_text=[]  #initializing empty lists to store the summaries\n",
    "short_summary=[]\n",
    "\n",
    "for i in range(len(cleaned_text)):\n",
    "  '''  code for selecting the text and summaries whose length falls below or equal to max_text_len and max_summary_len'''\n",
    "    if(len(cleaned_summary[i].split())<=max_summary_len and len(cleaned_text[i].split())<=max_text_len):\n",
    "        short_text.append(cleaned_text[i])\n",
    "        short_summary.append(cleaned_summary[i])\n",
    "        \n",
    "df=pd.DataFrame({'text':short_text,'summary':short_summary}) #storing the values in a Dataframe"
   ]
  },
  {
   "cell_type": "markdown",
   "metadata": {
    "id": "tR1uh8xSNUma"
   },
   "source": [
    "Here we are adding the **START** and **END** special tokens at the beginning and end of the summary. \n",
    "\n",
    "This is important because we are using encoder-decoder structure,this is the way the encoder knows that it has recieved an input as we are building a Seq2seq model and the encoder recieves text in a sequence.\n",
    "\n",
    "Here, for simplicity have chosen **sostok**(representing Start Of Sequence Token) and **eostok**(Representing End of Sequence Token) as START and END tokens\n",
    "\n",
    "**Note:**  these chosen special tokens never appear in the summary"
   ]
  },
  {
   "cell_type": "code",
   "execution_count": null,
   "metadata": {
    "id": "EwLUH78CFxhg"
   },
   "outputs": [],
   "source": [
    "df['summary'] = df['summary'].apply(lambda x : 'sostok '+ x + ' eostok')"
   ]
  },
  {
   "cell_type": "markdown",
   "metadata": {
    "id": "1GlcX4RFOh13"
   },
   "source": [
    "Before building our model, we need to split our dataset into a training and validation set. We’ll use 90% of the dataset as the training data and evaluate the performance on the remaining 10% (holdout set):"
   ]
  },
  {
   "cell_type": "code",
   "execution_count": null,
   "metadata": {
    "id": "RakakKHcFxhl"
   },
   "outputs": [],
   "source": [
    "from sklearn.model_selection import train_test_split\n",
    "x_tr,x_val,y_tr,y_val=train_test_split(np.array(df['text']),np.array(df['summary']),test_size=0.1,random_state=0,shuffle=True) "
   ]
  },
  {
   "cell_type": "markdown",
   "metadata": {
    "id": "Vq1mqyOHOtIl"
   },
   "source": [
    "#Preparing the Tokenizer\n",
    "\n",
    "A tokenizer builds the vocabulary and converts a word sequence to an integer sequence.\n",
    "\n",
    "#Text Tokenizer\n",
    "\n",
    "So we will build a tokenizer for our text and summary"
   ]
  },
  {
   "cell_type": "code",
   "execution_count": null,
   "metadata": {
    "id": "oRHTgX6hFxhq"
   },
   "outputs": [],
   "source": [
    "from keras.preprocessing.text import Tokenizer \n",
    "from keras_preprocessing.sequence import pad_sequences\n",
    "\n",
    "#prepare a tokenizer for reviews on training data\n",
    "x_tokenizer = Tokenizer() \n",
    "x_tokenizer.fit_on_texts(list(x_tr))"
   ]
  },
  {
   "cell_type": "markdown",
   "metadata": {
    "id": "RzvLwYL_PDcx"
   },
   "source": [
    "#Rarewords and its Coverage\n",
    "\n",
    "Let us look at the proportion rare words and its total coverage in the entire text\n",
    "\n",
    "Rare words are the words that appear less frequently than other common words\n",
    "\n",
    "Here, we will define the threshold to be 4 which means  any word whose count is below 4(i,e which appears less than 4 times) is considered as a rare word."
   ]
  },
  {
   "cell_type": "code",
   "execution_count": null,
   "metadata": {
    "colab": {
     "base_uri": "https://localhost:8080/"
    },
    "id": "y8KronV2Fxhx",
    "outputId": "f294677e-1cd0-4985-bf57-11e5bb78d8ab"
   },
   "outputs": [
    {
     "name": "stdout",
     "output_type": "stream",
     "text": [
      "% of rare words in vocabulary: 66.66472828773297\n",
      "Total Coverage of rare words: 2.1762127218939047\n"
     ]
    }
   ],
   "source": [
    "thresh=4\n",
    "count=0\n",
    "tot_count=0\n",
    "freq=0\n",
    "tot_freq=0\n",
    "\n",
    "for key,value in x_tokenizer.word_counts.items():\n",
    "    tot_count=tot_count+1\n",
    "    tot_freq=tot_freq+value\n",
    "    if(value<thresh):\n",
    "        count=count+1\n",
    "        freq=freq+value\n",
    "    \n",
    "print(\"% of rare words in vocabulary:\",(count/tot_count)*100)\n",
    "print(\"Total Coverage of rare words:\",(freq/tot_freq)*100)"
   ]
  },
  {
   "cell_type": "markdown",
   "metadata": {
    "id": "So-J-5kzQIeO"
   },
   "source": [
    "\n",
    "\n",
    "* **tot_count** gives the size of vocabulary (which means every unique words in the text)\n",
    " \n",
    "*   **count** gives the no. of rare words whose count falls below threshold\n",
    "\n",
    "*  **tot_count - count** gives me the top most common words \n",
    "\n",
    "Let us define the tokenizer with top most common words for reviews."
   ]
  },
  {
   "cell_type": "code",
   "execution_count": null,
   "metadata": {
    "id": "J2giEsF3Fxh3"
   },
   "outputs": [],
   "source": [
    "#prepare a tokenizer for reviews on training data\n",
    "x_tokenizer = Tokenizer(num_words=tot_cnt-cnt) \n",
    "x_tokenizer.fit_on_texts(list(x_tr))\n",
    "\n",
    "#convert text sequences into integer sequences\n",
    "x_tr_seq    =   x_tokenizer.texts_to_sequences(x_tr) \n",
    "x_val_seq   =   x_tokenizer.texts_to_sequences(x_val)\n",
    "\n",
    "#padding zero upto maximum length\n",
    "x_tr    =   pad_sequences(x_tr_seq,  maxlen=max_text_len, padding='post')\n",
    "x_val   =   pad_sequences(x_val_seq, maxlen=max_text_len, padding='post')\n",
    "\n",
    "#size of vocabulary ( +1 for padding token)\n",
    "x_voc   =  x_tokenizer.num_words + 1"
   ]
  },
  {
   "cell_type": "code",
   "execution_count": null,
   "metadata": {
    "colab": {
     "base_uri": "https://localhost:8080/"
    },
    "id": "DCbGMsm4FxiA",
    "outputId": "ea31998b-d787-4f9d-8e86-a95c50e1edab"
   },
   "outputs": [
    {
     "data": {
      "text/plain": [
       "11466"
      ]
     },
     "execution_count": 26,
     "metadata": {},
     "output_type": "execute_result"
    }
   ],
   "source": [
    "x_voc"
   ]
  },
  {
   "cell_type": "markdown",
   "metadata": {
    "id": "uQfKP3sqRxi9"
   },
   "source": [
    "#Summary Tokenizer"
   ]
  },
  {
   "cell_type": "code",
   "execution_count": null,
   "metadata": {
    "id": "eRHqyBkBFxiJ"
   },
   "outputs": [],
   "source": [
    "#prepare a tokenizer for reviews on training data\n",
    "y_tokenizer = Tokenizer()   \n",
    "y_tokenizer.fit_on_texts(list(y_tr))"
   ]
  },
  {
   "cell_type": "markdown",
   "metadata": {
    "id": "KInA6O6ZSkJz"
   },
   "source": [
    "#Rarewords and its Coverage\n",
    "\n",
    "Let us look at the proportion rare words and its total coverage in the summary\n",
    "\n",
    "Rare words are the words that appear less frequently than other common words\n",
    "\n",
    "Here, we will define the threshold to be 4 which means  any word whose count is below 6(i,e which appears less than 4 times) is considered as a rare word."
   ]
  },
  {
   "cell_type": "code",
   "execution_count": null,
   "metadata": {
    "colab": {
     "base_uri": "https://localhost:8080/"
    },
    "id": "yzE5OiRLFxiM",
    "outputId": "87fdef69-8e8d-4723-b471-c648ad834acf"
   },
   "outputs": [
    {
     "name": "stdout",
     "output_type": "stream",
     "text": [
      "% of rare words in vocabulary: 76.86002029822781\n",
      "Total Coverage of rare words: 3.941994057125159\n"
     ]
    }
   ],
   "source": [
    "thresh=6\n",
    "\n",
    "cnt=0\n",
    "tot_cnt=0\n",
    "freq=0\n",
    "tot_freq=0\n",
    "\n",
    "for key,value in y_tokenizer.word_counts.items():\n",
    "    tot_cnt=tot_cnt+1\n",
    "    tot_freq=tot_freq+value\n",
    "    if(value<thresh):\n",
    "        cnt=cnt+1\n",
    "        freq=freq+value\n",
    "    \n",
    "print(\"% of rare words in vocabulary:\",(cnt/tot_cnt)*100)\n",
    "print(\"Total Coverage of rare words:\",(freq/tot_freq)*100)"
   ]
  },
  {
   "cell_type": "markdown",
   "metadata": {
    "id": "0PBhzKuRSw_9"
   },
   "source": [
    "Let us define the tokenizer with top most common words for summary."
   ]
  },
  {
   "cell_type": "code",
   "execution_count": null,
   "metadata": {
    "id": "-fswLvIgFxiR"
   },
   "outputs": [],
   "source": [
    "#prepare a tokenizer for reviews on training data\n",
    "y_tokenizer = Tokenizer(num_words=tot_cnt-cnt) \n",
    "y_tokenizer.fit_on_texts(list(y_tr))\n",
    "\n",
    "#convert text sequences into integer sequences\n",
    "y_tr_seq    =   y_tokenizer.texts_to_sequences(y_tr) \n",
    "y_val_seq   =   y_tokenizer.texts_to_sequences(y_val) \n",
    "\n",
    "#padding zero upto maximum length\n",
    "y_tr    =   pad_sequences(y_tr_seq, maxlen=max_summary_len, padding='post')\n",
    "y_val   =   pad_sequences(y_val_seq, maxlen=max_summary_len, padding='post')\n",
    "\n",
    "#size of vocabulary\n",
    "y_voc  =   y_tokenizer.num_words +1"
   ]
  },
  {
   "cell_type": "markdown",
   "metadata": {
    "id": "qqwDUT5oTFmn"
   },
   "source": [
    "Let us check whether word count of start token is equal to length of the training data"
   ]
  },
  {
   "cell_type": "code",
   "execution_count": null,
   "metadata": {
    "colab": {
     "base_uri": "https://localhost:8080/"
    },
    "id": "pR8IX9FRFxiY",
    "outputId": "3f150f60-f20e-4186-c9e6-1d9c4e901497"
   },
   "outputs": [
    {
     "data": {
      "text/plain": [
       "(78845, 78845)"
      ]
     },
     "execution_count": 30,
     "metadata": {},
     "output_type": "execute_result"
    }
   ],
   "source": [
    "y_tokenizer.word_counts['sostok'],len(y_tr)   "
   ]
  },
  {
   "cell_type": "markdown",
   "metadata": {
    "id": "LVFhFVguTTtw"
   },
   "source": [
    "Here, Let's delete the rows that contain only **START** and **END** tokens"
   ]
  },
  {
   "cell_type": "code",
   "execution_count": null,
   "metadata": {
    "id": "kZ-vW82sFxih"
   },
   "outputs": [],
   "source": [
    "ind=[]\n",
    "for i in range(len(y_tr)):\n",
    "    cnt=0\n",
    "    for j in y_tr[i]:\n",
    "        if j!=0:\n",
    "            cnt=cnt+1\n",
    "    if(cnt==2):\n",
    "        ind.append(i)\n",
    "\n",
    "y_tr=np.delete(y_tr,ind, axis=0)\n",
    "x_tr=np.delete(x_tr,ind, axis=0)"
   ]
  },
  {
   "cell_type": "code",
   "execution_count": null,
   "metadata": {
    "id": "cx5NISuMFxik"
   },
   "outputs": [],
   "source": [
    "ind=[]\n",
    "for i in range(len(y_val)):\n",
    "    cnt=0\n",
    "    for j in y_val[i]:\n",
    "        if j!=0:\n",
    "            cnt=cnt+1\n",
    "    if(cnt==2):\n",
    "        ind.append(i)\n",
    "\n",
    "y_val=np.delete(y_val,ind, axis=0)\n",
    "x_val=np.delete(x_val,ind, axis=0)"
   ]
  },
  {
   "cell_type": "markdown",
   "metadata": {
    "id": "wOtlDcthFxip"
   },
   "source": [
    "# Model building\n",
    "\n",
    "Now We should build the model. But before we do that, we need to know a few terms which are required prior to building the model.\n",
    "\n",
    "**Return Sequences = True**: When the return sequences parameter is set to True, LSTM produces the hidden state and cell state for every timestep\n",
    "\n",
    "**Return State = True**: When return state = True, LSTM produces the hidden state and cell state of the last timestep only\n",
    "\n",
    "**Initial State**: This is used to initialize the internal states of the LSTM for the first timestep\n",
    "\n",
    "**Stacked LSTM**: Stacked LSTM has multiple layers of LSTM stacked on top of each other. \n",
    "This leads to a better representation of the sequence.\n",
    "\n",
    "Here, we will be building a 3 stacked LSTM for the encoder:"
   ]
  },
  {
   "cell_type": "code",
   "execution_count": null,
   "metadata": {
    "colab": {
     "base_uri": "https://localhost:8080/"
    },
    "id": "hxvJKjhSnKn_",
    "outputId": "311b3139-3213-41e7-a172-d63e4823d257"
   },
   "outputs": [
    {
     "name": "stdout",
     "output_type": "stream",
     "text": [
      "Looking in indexes: https://pypi.org/simple, https://us-python.pkg.dev/colab-wheels/public/simple/\n",
      "Collecting keras-self-attention\n",
      "  Downloading keras-self-attention-0.51.0.tar.gz (11 kB)\n",
      "Requirement already satisfied: numpy in /usr/local/lib/python3.7/dist-packages (from keras-self-attention) (1.21.6)\n",
      "Building wheels for collected packages: keras-self-attention\n",
      "  Building wheel for keras-self-attention (setup.py) ... \u001b[?25l\u001b[?25hdone\n",
      "  Created wheel for keras-self-attention: filename=keras_self_attention-0.51.0-py3-none-any.whl size=18912 sha256=837ad54ac11bfb91d42ef229522a7f1b66fa0fae14c743a998022c507de9cdf1\n",
      "  Stored in directory: /root/.cache/pip/wheels/95/b1/a8/5ee00cc137940b2f6fa198212e8f45d813d0e0d9c3a04035a3\n",
      "Successfully built keras-self-attention\n",
      "Installing collected packages: keras-self-attention\n",
      "Successfully installed keras-self-attention-0.51.0\n"
     ]
    }
   ],
   "source": [
    "!pip install keras-self-attention"
   ]
  },
  {
   "cell_type": "code",
   "execution_count": null,
   "metadata": {
    "colab": {
     "base_uri": "https://localhost:8080/"
    },
    "id": "zXef38nBFxir",
    "outputId": "e946d33e-5db3-4655-e6fb-ae9313a17d46"
   },
   "outputs": [
    {
     "name": "stderr",
     "output_type": "stream",
     "text": [
      "WARNING:tensorflow:Layer lstm will not use cuDNN kernels since it doesn't meet the criteria. It will use a generic GPU kernel as fallback when running on GPU.\n",
      "WARNING:tensorflow:Layer lstm_1 will not use cuDNN kernels since it doesn't meet the criteria. It will use a generic GPU kernel as fallback when running on GPU.\n",
      "WARNING:tensorflow:Layer lstm_2 will not use cuDNN kernels since it doesn't meet the criteria. It will use a generic GPU kernel as fallback when running on GPU.\n",
      "WARNING:tensorflow:Layer lstm_3 will not use cuDNN kernels since it doesn't meet the criteria. It will use a generic GPU kernel as fallback when running on GPU.\n"
     ]
    },
    {
     "name": "stdout",
     "output_type": "stream",
     "text": [
      "Model: \"model\"\n",
      "__________________________________________________________________________________________________\n",
      " Layer (type)                   Output Shape         Param #     Connected to                     \n",
      "==================================================================================================\n",
      " input_1 (InputLayer)           [(None, 30)]         0           []                               \n",
      "                                                                                                  \n",
      " embedding (Embedding)          (None, 30, 100)      1146600     ['input_1[0][0]']                \n",
      "                                                                                                  \n",
      " lstm (LSTM)                    [(None, 30, 300),    481200      ['embedding[0][0]']              \n",
      "                                 (None, 300),                                                     \n",
      "                                 (None, 300)]                                                     \n",
      "                                                                                                  \n",
      " input_2 (InputLayer)           [(None, None)]       0           []                               \n",
      "                                                                                                  \n",
      " lstm_1 (LSTM)                  [(None, 30, 300),    721200      ['lstm[0][0]']                   \n",
      "                                 (None, 300),                                                     \n",
      "                                 (None, 300)]                                                     \n",
      "                                                                                                  \n",
      " embedding_1 (Embedding)        (None, None, 100)    296500      ['input_2[0][0]']                \n",
      "                                                                                                  \n",
      " lstm_2 (LSTM)                  [(None, 30, 300),    721200      ['lstm_1[0][0]']                 \n",
      "                                 (None, 300),                                                     \n",
      "                                 (None, 300)]                                                     \n",
      "                                                                                                  \n",
      " lstm_3 (LSTM)                  [(None, None, 300),  481200      ['embedding_1[0][0]',            \n",
      "                                 (None, 300),                     'lstm_2[0][1]',                 \n",
      "                                 (None, 300)]                     'lstm_2[0][2]']                 \n",
      "                                                                                                  \n",
      " attention_layer (AttentionLaye  ((None, None, 300),  180300     ['lstm_2[0][0]',                 \n",
      " r)                              (None, None, 30))                'lstm_3[0][0]']                 \n",
      "                                                                                                  \n",
      " concat_layer (Concatenate)     (None, None, 600)    0           ['lstm_3[0][0]',                 \n",
      "                                                                  'attention_layer[0][0]']        \n",
      "                                                                                                  \n",
      " time_distributed (TimeDistribu  (None, None, 2965)  1781965     ['concat_layer[0][0]']           \n",
      " ted)                                                                                             \n",
      "                                                                                                  \n",
      "==================================================================================================\n",
      "Total params: 5,810,165\n",
      "Trainable params: 5,810,165\n",
      "Non-trainable params: 0\n",
      "__________________________________________________________________________________________________\n"
     ]
    }
   ],
   "source": [
    "from keras import backend as K \n",
    "\n",
    "K.clear_session()\n",
    "\n",
    "latent_dim = 300\n",
    "embedding_dim=100\n",
    "\n",
    "# Encoder\n",
    "encoder_inputs = Input(shape=(max_text_len,))\n",
    "\n",
    "#embedding layer\n",
    "enc_emb =  Embedding(x_voc, embedding_dim,trainable=True)(encoder_inputs)\n",
    "\n",
    "#encoder lstm 1\n",
    "encoder_lstm1 = LSTM(latent_dim,return_sequences=True,return_state=True,dropout=0.4,recurrent_dropout=0.4)\n",
    "encoder_output1, state_h1, state_c1 = encoder_lstm1(enc_emb)\n",
    "\n",
    "#encoder lstm 2\n",
    "encoder_lstm2 = LSTM(latent_dim,return_sequences=True,return_state=True,dropout=0.4,recurrent_dropout=0.4)\n",
    "encoder_output2, state_h2, state_c2 = encoder_lstm2(encoder_output1)\n",
    "\n",
    "#encoder lstm 3\n",
    "encoder_lstm3=LSTM(latent_dim, return_state=True, return_sequences=True,dropout=0.4,recurrent_dropout=0.4)\n",
    "encoder_outputs, state_h, state_c= encoder_lstm3(encoder_output2)\n",
    "\n",
    "# Set up the decoder, using `encoder_states` as initial state.\n",
    "decoder_inputs = Input(shape=(None,))\n",
    "\n",
    "#embedding layer\n",
    "dec_emb_layer = Embedding(y_voc, embedding_dim,trainable=True)\n",
    "dec_emb = dec_emb_layer(decoder_inputs)\n",
    "\n",
    "decoder_lstm = LSTM(latent_dim, return_sequences=True, return_state=True,dropout=0.4,recurrent_dropout=0.2)\n",
    "decoder_outputs,decoder_fwd_state, decoder_back_state = decoder_lstm(dec_emb,initial_state=[state_h, state_c])\n",
    "\n",
    "# Attention layer\n",
    "attn_layer = AttentionLayer(name='attention_layer')\n",
    "attn_out, attn_states = attn_layer([encoder_outputs, decoder_outputs])\n",
    "\n",
    "# Concat attention input and decoder LSTM output\n",
    "decoder_concat_input = Concatenate(axis=-1, name='concat_layer')([decoder_outputs, attn_out])\n",
    "\n",
    "#dense layer\n",
    "decoder_dense =  TimeDistributed(Dense(y_voc, activation='softmax'))\n",
    "decoder_outputs = decoder_dense(decoder_concat_input)\n",
    "\n",
    "# Define the model \n",
    "model = Model([encoder_inputs, decoder_inputs], decoder_outputs)\n",
    "\n",
    "model.summary() "
   ]
  },
  {
   "cell_type": "markdown",
   "metadata": {
    "id": "0ZVlfRuMUcoP"
   },
   "source": [
    "we are using sparse categorical cross-entropy as the loss function since it converts the integer sequence to a one-hot vector on the fly. This overcomes any memory issues."
   ]
  },
  {
   "cell_type": "code",
   "execution_count": null,
   "metadata": {
    "id": "Lwfi1Fm8Fxiz"
   },
   "outputs": [],
   "source": [
    "model.compile(optimizer='rmsprop', loss='sparse_categorical_crossentropy')"
   ]
  },
  {
   "cell_type": "markdown",
   "metadata": {
    "id": "p0ykDbxfUhyw"
   },
   "source": [
    "Remember the concept of early stopping? It is used to stop training the neural network at the right time by monitoring a user-specified metric. \n",
    "\n",
    "Here, we'll be monitoring the validation loss (val_loss). Our model will stop training once the validation loss increases:\n"
   ]
  },
  {
   "cell_type": "code",
   "execution_count": null,
   "metadata": {
    "id": "s-A3J92MUljB"
   },
   "outputs": [],
   "source": [
    "es = EarlyStopping(monitor='val_loss', mode='min', verbose=1,patience=2)"
   ]
  },
  {
   "cell_type": "markdown",
   "metadata": {
    "id": "Mw6CVECaUq5b"
   },
   "source": [
    "We’ll train the model on a batch size of 128 and validate it on the holdout set (which is 10% of our dataset):"
   ]
  },
  {
   "cell_type": "code",
   "execution_count": null,
   "metadata": {
    "id": "WEFfFqAV__Tw"
   },
   "outputs": [],
   "source": [
    "#from sklearn.model_selection import train_test_split\n",
    "#x_tr,x_val,y_tr,y_val=train_test_split(np.array(df['text']),np.array(df['summary']),test_size=0.1,random_state=0,shuffle=True) "
   ]
  },
  {
   "cell_type": "code",
   "execution_count": null,
   "metadata": {
    "id": "watt81qmJ6cc"
   },
   "outputs": [],
   "source": [
    "tf.config.run_functions_eagerly(True) #We will use this to  make all invocations run eagerly rather than as a graph function"
   ]
  },
  {
   "cell_type": "code",
   "execution_count": null,
   "metadata": {
    "colab": {
     "base_uri": "https://localhost:8080/"
    },
    "id": "ETnPzA4OFxi3",
    "outputId": "29a66520-4031-4835-b965-bbfd9ea73bbb"
   },
   "outputs": [
    {
     "name": "stdout",
     "output_type": "stream",
     "text": [
      "Epoch 1/10\n",
      "604/604 [==============================] - 657s 1s/step - loss: 2.8004 - val_loss: 2.5370\n",
      "Epoch 2/10\n",
      "604/604 [==============================] - 655s 1s/step - loss: 2.4766 - val_loss: 2.3749\n",
      "Epoch 3/10\n",
      "604/604 [==============================] - 636s 1s/step - loss: 2.3480 - val_loss: 2.2856\n",
      "Epoch 4/10\n",
      "604/604 [==============================] - 636s 1s/step - loss: 2.2699 - val_loss: 2.2358\n",
      "Epoch 5/10\n",
      "604/604 [==============================] - 636s 1s/step - loss: 2.2142 - val_loss: 2.1954\n",
      "Epoch 6/10\n",
      "604/604 [==============================] - 644s 1s/step - loss: 2.1674 - val_loss: 2.1604\n",
      "Epoch 7/10\n",
      "604/604 [==============================] - 648s 1s/step - loss: 2.1296 - val_loss: 2.1364\n",
      "Epoch 8/10\n",
      "604/604 [==============================] - 656s 1s/step - loss: 2.0967 - val_loss: 2.1183\n",
      "Epoch 9/10\n",
      "604/604 [==============================] - 660s 1s/step - loss: 2.0679 - val_loss: 2.0968\n",
      "Epoch 10/10\n",
      "604/604 [==============================] - 642s 1s/step - loss: 2.0423 - val_loss: 2.0852\n"
     ]
    }
   ],
   "source": [
    "history=model.fit([x_tr,y_tr[:,:-1]], y_tr.reshape(y_tr.shape[0],y_tr.shape[1], 1)[:,1:] ,epochs=10,callbacks=[es],batch_size=128, validation_data=([x_val,y_val[:,:-1]], y_val.reshape(y_val.shape[0],y_val.shape[1], 1)[:,1:]))"
   ]
  },
  {
   "cell_type": "markdown",
   "metadata": {
    "id": "y0Ovi38Qvwx9"
   },
   "source": [
    "# **LOADING AND SAVING THE MODEL**\n",
    "\n",
    "As we saw Training our Model only took 2 hours of time to run on myPC since we canot always run the model whenever we want as its time consuming we can load and save the model with the weights so that it is portable and easy to us the next time we need it\n",
    "\n"
   ]
  },
  {
   "cell_type": "code",
   "execution_count": null,
   "metadata": {
    "colab": {
     "base_uri": "https://localhost:8080/",
     "height": 89
    },
    "id": "rIGbj0dzwAEl",
    "outputId": "82971cb0-0927-49aa-eadf-091f366ef7fb"
   },
   "outputs": [
    {
     "name": "stdout",
     "output_type": "stream",
     "text": [
      "Saved model to disk\n"
     ]
    },
    {
     "data": {
      "application/vnd.google.colaboratory.intrinsic+json": {
       "type": "string"
      },
      "text/plain": [
       "'\\nLOADING THE WEIGHTS OF THE DEEP LEARNING NETWORK\\n# load json and create model\\njson_file = open(\\'model_cat.json\\', \\'r\\')\\nloaded_model_json = json_file.read()\\njson_file.close()\\nloaded_model = model_from_json(loaded_model_json)\\n# load weights into new model\\nloaded_model.load_weights(\"model.h5\")\\nprint(\"Loaded model from disk\")\\n'"
      ]
     },
     "execution_count": 57,
     "metadata": {},
     "output_type": "execute_result"
    }
   ],
   "source": [
    "from keras.models import model_from_json\n",
    "\n",
    "#Saving THE WEIGHTS OF THE DEEP LEARNING NETWORK\n",
    "'''\n",
    "model_save_json = model.to_json()\n",
    "with open(\"/content/drive/MyDrive/NLP/Project/model_save.json\", \"w\") as json_file:\n",
    "    json_file.write(model_save_json)\n",
    "# serialize weights to HDF5\n",
    "model.save_weights(\"/content/drive/MyDrive/NLP/Project/model_save.h5\")\n",
    "print(\"Saved model to disk\")\n",
    "\n",
    "'''\n",
    "#LOADING THE WEIGHTS OF THE DEEP LEARNING NETWORK\n",
    "# load json and create model\n",
    "json_file = open('model_save.json', 'r')\n",
    "loaded_model_json = json_file.read()\n",
    "json_file.close()\n",
    "loaded_model = model_from_json(loaded_model_json)\n",
    "# load weights into new model\n",
    "loaded_model.load_weights(\"model_save.h5\")\n",
    "print(\"Loaded model from disk\")\n",
    "\n",
    " "
   ]
  },
  {
   "cell_type": "markdown",
   "metadata": {
    "id": "Qzuu8NCiwInQ"
   },
   "source": [
    "# **LOADING AND SAVING THE HISTORY OF THE MODEL**"
   ]
  },
  {
   "cell_type": "code",
   "execution_count": null,
   "metadata": {
    "id": "OvVH59mLwQIP"
   },
   "outputs": [],
   "source": [
    "#SAVING THE HISTORY\n",
    "#/content/drive/MyDrive/my_history_cat.npy -> /content/drive/MyDrive/NLP/Project/my_history_save.npy\n",
    "#np.save('/content/drive/MyDrive/NLP/Project/my_history_save.npy',history.history)\n",
    "\n",
    "#Loading the history\n",
    "\n",
    "history=np.load('/content/drive/MyDrive/NLP/Project/my_history_save.npy',allow_pickle='TRUE').item()"
   ]
  },
  {
   "cell_type": "markdown",
   "metadata": {
    "id": "0ezKYOp2UxG5"
   },
   "source": [
    "#Understanding the Diagnostic plot\n",
    "\n",
    "Now, we will plot a few diagnostic plots to understand the behavior of the model over time:"
   ]
  },
  {
   "cell_type": "code",
   "execution_count": null,
   "metadata": {
    "colab": {
     "base_uri": "https://localhost:8080/",
     "height": 265
    },
    "id": "tDTNLAURFxjE",
    "outputId": "142bed47-2720-4532-e994-1fd08209dbd1"
   },
   "outputs": [
    {
     "data": {
      "image/png": "[encoded data removed]",
      "text/plain": [
       "<Figure size 432x288 with 1 Axes>"
      ]
     },
     "metadata": {
      "needs_background": "light"
     },
     "output_type": "display_data"
    }
   ],
   "source": [
    "from matplotlib import pyplot\n",
    "pyplot.plot(history.history['loss'], label='train')\n",
    "pyplot.plot(history.history['val_loss'], label='test')\n",
    "pyplot.legend()\n",
    "pyplot.show()"
   ]
  },
  {
   "cell_type": "markdown",
   "metadata": {
    "id": "HSyx-HvpUz2o"
   },
   "source": [
    "From the plot, we can infer that validation loss has increased after epoch 8.\n",
    "\n",
    "Next, let’s build the dictionary to convert the index to word for target and source vocabulary:"
   ]
  },
  {
   "cell_type": "code",
   "execution_count": null,
   "metadata": {
    "id": "sBX0zZnOFxjW"
   },
   "outputs": [],
   "source": [
    "reverse_target_word_index=y_tokenizer.index_word\n",
    "reverse_source_word_index=x_tokenizer.index_word\n",
    "target_word_index=y_tokenizer.word_index"
   ]
  },
  {
   "cell_type": "markdown",
   "metadata": {
    "id": "eM_nU_VvFxjq"
   },
   "source": [
    "# Inference\n",
    "\n",
    "we will Set up the inference for the encoder and decoder:\n",
    "\n",
    "The stage of growth known as deep learning inference is where the skills acquired during training are put to use. When presented with new data that the model has never seen before, the trained deep neural networks (DNN) draws conclusions or make predictions."
   ]
  },
  {
   "cell_type": "code",
   "execution_count": null,
   "metadata": {
    "id": "9QkrNV-4Fxjt"
   },
   "outputs": [],
   "source": [
    "# Encode the input sequence to get the feature vector\n",
    "encoder_model = Model(inputs=encoder_inputs,outputs=[encoder_outputs, state_h, state_c])\n",
    "\n",
    "# Decoder setup\n",
    "# Below tensors will hold the states of the previous time step\n",
    "decoder_state_input_h = Input(shape=(latent_dim,))\n",
    "decoder_state_input_c = Input(shape=(latent_dim,))\n",
    "decoder_hidden_state_input = Input(shape=(max_text_len,latent_dim))\n",
    "\n",
    "# Get the embeddings of the decoder sequence\n",
    "dec_emb2= dec_emb_layer(decoder_inputs) \n",
    "# To predict the next word in the sequence, set the initial states to the states from the previous time step\n",
    "decoder_outputs2, state_h2, state_c2 = decoder_lstm(dec_emb2, initial_state=[decoder_state_input_h, decoder_state_input_c])\n",
    "\n",
    "#attention inference\n",
    "attn_out_inf, attn_states_inf = attn_layer([decoder_hidden_state_input, decoder_outputs2])\n",
    "decoder_inf_concat = Concatenate(axis=-1, name='concat')([decoder_outputs2, attn_out_inf])\n",
    "\n",
    "# A dense softmax layer to generate prob dist. over the target vocabulary\n",
    "decoder_outputs2 = decoder_dense(decoder_inf_concat) \n",
    "\n",
    "# Final decoder model\n",
    "decoder_model = Model(\n",
    "    [decoder_inputs] + [decoder_hidden_state_input,decoder_state_input_h, decoder_state_input_c],\n",
    "    [decoder_outputs2] + [state_h2, state_c2])"
   ]
  },
  {
   "cell_type": "markdown",
   "metadata": {
    "id": "zOiyk4ToWe74"
   },
   "source": [
    "We are defining a function below which is the implementation of the inference process "
   ]
  },
  {
   "cell_type": "code",
   "execution_count": null,
   "metadata": {
    "id": "6f6TTFnBFxj6"
   },
   "outputs": [],
   "source": [
    "def decode_sequence(input_seq):\n",
    "    # Encode the input as state vectors.\n",
    "    e_out, e_h, e_c = encoder_model.predict(input_seq)\n",
    "    \n",
    "    # Generate empty target sequence of length 1.\n",
    "    target_seq = np.zeros((1,1))\n",
    "    \n",
    "    # Populate the first word of target sequence with the start word.\n",
    "    target_seq[0, 0] = target_word_index['sostok']\n",
    "\n",
    "    stop_condition = False\n",
    "    decoded_sentence = ''\n",
    "    while not stop_condition:\n",
    "      \n",
    "        output_tokens, h, c = decoder_model.predict([target_seq] + [e_out, e_h, e_c])\n",
    "\n",
    "        # Sample a token\n",
    "        sampled_token_index = np.argmax(output_tokens[0, -1, :])\n",
    "        sampled_token = reverse_target_word_index[sampled_token_index]\n",
    "        \n",
    "        if(sampled_token!='eostok'):\n",
    "            decoded_sentence += ' '+sampled_token\n",
    "\n",
    "        # Exit condition: either hit max length or find stop word.\n",
    "        if (sampled_token == 'eostok'  or len(decoded_sentence.split()) >= (max_summary_len-1)):\n",
    "            stop_condition = True\n",
    "\n",
    "        # Update the target sequence (of length 1).\n",
    "        target_seq = np.zeros((1,1))\n",
    "        target_seq[0, 0] = sampled_token_index\n",
    "\n",
    "        # Update internal states\n",
    "        e_h, e_c = h, c\n",
    "\n",
    "    return decoded_sentence"
   ]
  },
  {
   "cell_type": "markdown",
   "metadata": {
    "id": "6GuDf4TPWt6_"
   },
   "source": [
    "NOw we'll define the functions to convert an integer sequence to a word sequence for summary as well as the reviews:"
   ]
  },
  {
   "cell_type": "code",
   "execution_count": null,
   "metadata": {
    "id": "aAUntznIFxj9"
   },
   "outputs": [],
   "source": [
    "def seq2summary(input_seq):\n",
    "    newString=''\n",
    "    for i in input_seq:\n",
    "        if((i!=0 and i!=target_word_index['sostok']) and i!=target_word_index['eostok']):\n",
    "            newString=newString+reverse_target_word_index[i]+' '\n",
    "    return newString\n",
    "\n",
    "def seq2text(input_seq):\n",
    "    newString=''\n",
    "    for i in input_seq:\n",
    "        if(i!=0):\n",
    "            newString=newString+reverse_source_word_index[i]+' '\n",
    "    return newString"
   ]
  },
  {
   "cell_type": "markdown",
   "metadata": {
    "id": "9gM4ALyfWwA9"
   },
   "source": [
    "Here are a few summaries generated by the model:"
   ]
  },
  {
   "cell_type": "code",
   "execution_count": null,
   "metadata": {
    "colab": {
     "base_uri": "https://localhost:8080/"
    },
    "id": "BUtQmQTmFxkI",
    "outputId": "2700b63d-4a1f-4f4d-9814-d84189c94ce1"
   },
   "outputs": [
    {
     "name": "stdout",
     "output_type": "stream",
     "text": [
      "Review: delightful product buying pretty easy absolutely addicting everyone wants carmel corn product made packages last weeks yummy \n",
      "Original summary: scrumptious \n",
      "1/1 [==============================] - 0s 365ms/step\n",
      "1/1 [==============================] - 0s 43ms/step\n",
      "1/1 [==============================] - 0s 41ms/step\n",
      "Predicted summary:  delicious\n",
      "\n",
      "\n",
      "Review: loves tastes good meaty cousin eat meat miss cousin put chopped cilantro onions sour cream top good time \n",
      "Original summary: love this stuff \n",
      "1/1 [==============================] - 0s 369ms/step\n",
      "1/1 [==============================] - 0s 41ms/step\n",
      "1/1 [==============================] - 0s 42ms/step\n",
      "1/1 [==============================] - 0s 44ms/step\n",
      "Predicted summary:  great taste\n",
      "\n",
      "\n",
      "Review: found store carry thankful amazon com son says favorite meal \n",
      "Original summary: taste great \n",
      "1/1 [==============================] - 0s 358ms/step\n",
      "1/1 [==============================] - 0s 38ms/step\n",
      "1/1 [==============================] - 0s 39ms/step\n",
      "Predicted summary:  great\n",
      "\n",
      "\n",
      "Review: previously using recommended pharmacist worked expensive taste good decided try tea yogi since reasonably priced works well tastes much better recommend trick \n",
      "Original summary: works and tastes good \n",
      "1/1 [==============================] - 0s 348ms/step\n",
      "1/1 [==============================] - 0s 39ms/step\n",
      "1/1 [==============================] - 0s 46ms/step\n",
      "1/1 [==============================] - 0s 39ms/step\n",
      "Predicted summary:  good stuff\n",
      "\n",
      "\n",
      "Review: daughter celiac really missed kraft macaroni cheese luckily found annie loves lives ireland ship case \n",
      "Original summary: delicious mac cheese meal \n",
      "1/1 [==============================] - 0s 357ms/step\n",
      "1/1 [==============================] - 0s 37ms/step\n",
      "1/1 [==============================] - 0s 38ms/step\n",
      "1/1 [==============================] - 0s 47ms/step\n",
      "1/1 [==============================] - 0s 38ms/step\n",
      "1/1 [==============================] - 0s 38ms/step\n",
      "Predicted summary:  great gluten free snack\n",
      "\n",
      "\n",
      "Review: love hot diced tomatoes hard find locally glad get thru amazon gives extra kick soups stews spaghetti sauce \n",
      "Original summary: new staple for my pantry \n",
      "1/1 [==============================] - 0s 366ms/step\n",
      "1/1 [==============================] - 0s 42ms/step\n",
      "1/1 [==============================] - 0s 41ms/step\n",
      "1/1 [==============================] - 0s 40ms/step\n",
      "Predicted summary:  great flavor\n",
      "\n",
      "\n",
      "Review: tiny bit grainy bother bit kids really like use chocolate syrup substitute kids milk make box go really love great drinking full strength sweet love \n",
      "Original summary: this milk is really good \n",
      "1/1 [==============================] - 0s 362ms/step\n",
      "1/1 [==============================] - 0s 43ms/step\n",
      "1/1 [==============================] - 0s 46ms/step\n",
      "1/1 [==============================] - 0s 41ms/step\n",
      "Predicted summary:  great taste\n",
      "\n",
      "\n",
      "Review: delivered us every month love three selections personal favorite highly recommend little pricey cannot find smoked salmon locally \n",
      "Original summary: smoked salmon \n",
      "1/1 [==============================] - 0s 377ms/step\n",
      "1/1 [==============================] - 0s 40ms/step\n",
      "1/1 [==============================] - 0s 49ms/step\n",
      "1/1 [==============================] - 0s 39ms/step\n",
      "Predicted summary:  great gift\n",
      "\n",
      "\n",
      "Review: delicious hazelnut almond filling two layers milk chocolate like gourmet peanut butter cup reasonably priced enjoyed family \n",
      "Original summary: chocolates \n",
      "1/1 [==============================] - 0s 352ms/step\n",
      "1/1 [==============================] - 0s 38ms/step\n",
      "1/1 [==============================] - 0s 39ms/step\n",
      "Predicted summary:  delicious\n",
      "\n",
      "\n",
      "Review: hot cocoa delicious strong enough make larger size find three flavors delicious favorite dark cocoa best bang buck far found hot cocoa tend use coffee maker everything coffee \n",
      "Original summary: well worth the money \n",
      "1/1 [==============================] - 0s 350ms/step\n",
      "1/1 [==============================] - 0s 38ms/step\n",
      "1/1 [==============================] - 0s 40ms/step\n",
      "1/1 [==============================] - 0s 38ms/step\n",
      "Predicted summary:  hot cocoa\n",
      "\n",
      "\n",
      "Review: check nutritional info sodium grams daily requirement used casserole ruined salty price box cost dollar unfortunately bought two boxes throwing box away bargain wildly un delicious un healthy \n",
      "Original summary: nasty even be sold no stars \n",
      "1/1 [==============================] - 0s 353ms/step\n",
      "1/1 [==============================] - 0s 37ms/step\n",
      "1/1 [==============================] - 0s 51ms/step\n",
      "1/1 [==============================] - 0s 36ms/step\n",
      "1/1 [==============================] - 0s 38ms/step\n",
      "Predicted summary:  not the best\n",
      "\n",
      "\n",
      "Review: special treat babies pricey would think dogs would like feel look like vegetable shaped crayons full sorts goodies although feeding grain free diet first ingredient hydrolyzed wheat protein \n",
      "Original summary: my dogs love love love \n",
      "1/1 [==============================] - 0s 369ms/step\n",
      "1/1 [==============================] - 0s 38ms/step\n",
      "1/1 [==============================] - 0s 38ms/step\n",
      "1/1 [==============================] - 0s 37ms/step\n",
      "1/1 [==============================] - 0s 39ms/step\n",
      "1/1 [==============================] - 0s 37ms/step\n",
      "Predicted summary:  my dogs love these\n",
      "\n",
      "\n",
      "Review: great way start day gives lots energy feel hungry also good way keep weight control like standard special nice twist \n",
      "Original summary: great way to start the day \n",
      "1/1 [==============================] - 0s 345ms/step\n",
      "1/1 [==============================] - 0s 50ms/step\n",
      "1/1 [==============================] - 0s 38ms/step\n",
      "1/1 [==============================] - 0s 39ms/step\n",
      "Predicted summary:  great product\n",
      "\n",
      "\n",
      "Review: sure really organic know amazon description say mention anywhere product organic giving review star anyways amazingly good taste probably one best tasting instant coffees \n",
      "Original summary: organic hmm \n",
      "1/1 [==============================] - 0s 347ms/step\n",
      "1/1 [==============================] - 0s 38ms/step\n",
      "1/1 [==============================] - 0s 42ms/step\n",
      "1/1 [==============================] - 0s 40ms/step\n",
      "1/1 [==============================] - 0s 47ms/step\n",
      "1/1 [==============================] - 0s 40ms/step\n",
      "Predicted summary:  great for the price\n",
      "\n",
      "\n",
      "Review: received order within days heat summer packed insulated lining ice pack pretzels delicious melted seller pretzels \n",
      "Original summary: mm mm good \n",
      "1/1 [==============================] - 0s 370ms/step\n",
      "1/1 [==============================] - 0s 40ms/step\n",
      "1/1 [==============================] - 0s 36ms/step\n",
      "Predicted summary:  great\n",
      "\n",
      "\n",
      "Review: great agave nectar complaint wish came bigger bottles use time \n",
      "Original summary: love it \n",
      "1/1 [==============================] - 0s 354ms/step\n",
      "1/1 [==============================] - 0s 39ms/step\n",
      "1/1 [==============================] - 0s 43ms/step\n",
      "1/1 [==============================] - 0s 39ms/step\n",
      "Predicted summary:  great product\n",
      "\n",
      "\n",
      "Review: bully sticks smaller thought long thickness sharpie pen thought would thicker perhaps mistake reading details rate dog loves course thin last long \n",
      "Original summary: smaller than thought \n",
      "1/1 [==============================] - 0s 357ms/step\n",
      "1/1 [==============================] - 0s 40ms/step\n",
      "1/1 [==============================] - 0s 37ms/step\n",
      "1/1 [==============================] - 0s 38ms/step\n",
      "Predicted summary:  not bad\n",
      "\n",
      "\n",
      "Review: trying reduce caffeine intake wife likes lavazza best high quality fresh makes terrific home latte \n",
      "Original summary: best decaf pods \n",
      "1/1 [==============================] - 0s 360ms/step\n",
      "1/1 [==============================] - 0s 39ms/step\n",
      "1/1 [==============================] - 0s 44ms/step\n",
      "1/1 [==============================] - 0s 41ms/step\n",
      "Predicted summary:  great coffee\n",
      "\n",
      "\n",
      "Review: winter coming drink hot sick started make hot tea lemon realized ice teas already \n",
      "Original summary: hot tea \n",
      "1/1 [==============================] - 0s 346ms/step\n",
      "1/1 [==============================] - 0s 40ms/step\n",
      "1/1 [==============================] - 0s 38ms/step\n",
      "1/1 [==============================] - 0s 38ms/step\n",
      "Predicted summary:  great tea\n",
      "\n",
      "\n",
      "Review: flavor terrible love rest vita coco flavors one plain bad stay away \n",
      "Original summary: worst flavor \n",
      "1/1 [==============================] - 0s 359ms/step\n",
      "1/1 [==============================] - 0s 39ms/step\n",
      "1/1 [==============================] - 0s 44ms/step\n",
      "Predicted summary:  awful\n",
      "\n",
      "\n",
      "Review: great find perfect christmas gifts past year flavor great stored well thanks amazon another great find \n",
      "Original summary: excellent pasta \n",
      "1/1 [==============================] - 0s 356ms/step\n",
      "1/1 [==============================] - 0s 38ms/step\n",
      "1/1 [==============================] - 0s 43ms/step\n",
      "1/1 [==============================] - 0s 40ms/step\n",
      "Predicted summary:  great gift\n",
      "\n",
      "\n",
      "Review: cookies simply delicious fruit element overpowering way found traditional fig newtons highly recomend light snack \n",
      "Original summary: delicious \n",
      "1/1 [==============================] - 0s 347ms/step\n",
      "1/1 [==============================] - 0s 40ms/step\n",
      "1/1 [==============================] - 0s 38ms/step\n",
      "Predicted summary:  delicious\n",
      "\n",
      "\n",
      "Review: best tea ever tasted blend cinnamon spices make sweet spicy usually need sugar tea tea never need sugar naturally sweet taste absolutely delightful \n",
      "Original summary: this is the best tea ever \n",
      "1/1 [==============================] - 0s 351ms/step\n",
      "1/1 [==============================] - 0s 37ms/step\n",
      "1/1 [==============================] - 0s 38ms/step\n",
      "1/1 [==============================] - 0s 40ms/step\n",
      "Predicted summary:  great tea\n",
      "\n",
      "\n",
      "Review: love product much taste great great quality soak overnight cook order highly recommend \n",
      "Original summary: great taste \n",
      "1/1 [==============================] - 0s 370ms/step\n",
      "1/1 [==============================] - 0s 38ms/step\n",
      "1/1 [==============================] - 0s 38ms/step\n",
      "Predicted summary:  great\n",
      "\n",
      "\n",
      "Review: love way packaged coffee several others try impressed either liked packages like coffee \n",
      "Original summary: great packaging fair coffee \n",
      "1/1 [==============================] - 0s 366ms/step\n",
      "1/1 [==============================] - 0s 43ms/step\n",
      "1/1 [==============================] - 0s 39ms/step\n",
      "1/1 [==============================] - 0s 39ms/step\n",
      "Predicted summary:  great coffee\n",
      "\n",
      "\n",
      "Review: king beer prefer canned bud bottles ok drink cans without say competitor labeling beautiful near perfection \n",
      "Original summary: just love the king of \n",
      "1/1 [==============================] - 0s 365ms/step\n",
      "1/1 [==============================] - 0s 40ms/step\n",
      "1/1 [==============================] - 0s 38ms/step\n",
      "Predicted summary:  great\n",
      "\n",
      "\n",
      "Review: diabetic looking something contains given ingredient list natural extracts way know product contains \n",
      "Original summary: ingredients \n",
      "1/1 [==============================] - 0s 353ms/step\n",
      "1/1 [==============================] - 0s 44ms/step\n",
      "1/1 [==============================] - 0s 44ms/step\n",
      "1/1 [==============================] - 0s 41ms/step\n",
      "1/1 [==============================] - 0s 39ms/step\n",
      "Predicted summary:  not what expected\n",
      "\n",
      "\n",
      "Review: rice nice plenty spice could use cashews complaining \n",
      "Original summary: mm \n",
      "1/1 [==============================] - 0s 352ms/step\n",
      "1/1 [==============================] - 0s 40ms/step\n",
      "1/1 [==============================] - 0s 48ms/step\n",
      "1/1 [==============================] - 0s 37ms/step\n",
      "Predicted summary:  great rice\n",
      "\n",
      "\n",
      "Review: candy best remember going store kid buying communion wafer friends glad share children edible wafer little inside sweet everyone tries seems love cannot eat one \n",
      "Original summary: just like when was kid \n",
      "1/1 [==============================] - 0s 345ms/step\n",
      "1/1 [==============================] - 0s 39ms/step\n",
      "1/1 [==============================] - 0s 39ms/step\n",
      "Predicted summary:  delicious\n",
      "\n",
      "\n",
      "Review: college student needs extra energy get hour energy really gives boost need crash berry orange flavors taste great highly recommend everyone \n",
      "Original summary: great for college \n",
      "1/1 [==============================] - 0s 364ms/step\n",
      "1/1 [==============================] - 0s 41ms/step\n",
      "1/1 [==============================] - 0s 41ms/step\n",
      "1/1 [==============================] - 0s 38ms/step\n",
      "Predicted summary:  great product\n",
      "\n",
      "\n",
      "Review: start amazing taste nice smell natural ingredients know try tell opinion \n",
      "Original summary: wonderful taste \n",
      "1/1 [==============================] - 0s 346ms/step\n",
      "1/1 [==============================] - 0s 44ms/step\n",
      "1/1 [==============================] - 0s 38ms/step\n",
      "1/1 [==============================] - 0s 37ms/step\n",
      "Predicted summary:  great taste\n",
      "\n",
      "\n",
      "Review: die best sardines ever packed olive oil green olive slices sardines huge \n",
      "Original summary: so good \n",
      "1/1 [==============================] - 0s 352ms/step\n",
      "1/1 [==============================] - 0s 39ms/step\n",
      "1/1 [==============================] - 0s 39ms/step\n",
      "Predicted summary:  great\n",
      "\n",
      "\n",
      "Review: policy use non gmo products possible cannot guarantee product produced non gmo corn low prices majority corn produced us gmo assume gmo product great amazon return policy food items stuck \n",
      "Original summary: warning they use corn for this product \n",
      "1/1 [==============================] - 0s 353ms/step\n",
      "1/1 [==============================] - 0s 52ms/step\n",
      "1/1 [==============================] - 0s 39ms/step\n",
      "1/1 [==============================] - 0s 45ms/step\n",
      "1/1 [==============================] - 0s 40ms/step\n",
      "1/1 [==============================] - 0s 39ms/step\n",
      "Predicted summary:  not worth the money\n",
      "\n",
      "\n",
      "Review: hard believe much vegetable juice fruit juice rough think could make cheaper bought however find store brand stuff walmart little cheaper good \n",
      "Original summary: tastes more like fruit than veggies \n",
      "1/1 [==============================] - 0s 354ms/step\n",
      "1/1 [==============================] - 0s 37ms/step\n",
      "1/1 [==============================] - 0s 38ms/step\n",
      "1/1 [==============================] - 0s 40ms/step\n",
      "Predicted summary:  not bad\n",
      "\n",
      "\n",
      "Review: daughter still loves takes snack preschool teacher tops love blend fruit vegtable super grain thrown added nutrition also easy pack playground pool \n",
      "Original summary: nutritious and delicious \n",
      "1/1 [==============================] - 0s 358ms/step\n",
      "1/1 [==============================] - 0s 38ms/step\n",
      "1/1 [==============================] - 0s 39ms/step\n",
      "1/1 [==============================] - 0s 46ms/step\n",
      "Predicted summary:  great snack\n",
      "\n",
      "\n",
      "Review: great coffee great price added bonus feel good buying \n",
      "Original summary: great coffee \n",
      "1/1 [==============================] - 0s 357ms/step\n",
      "1/1 [==============================] - 0s 39ms/step\n",
      "1/1 [==============================] - 0s 39ms/step\n",
      "1/1 [==============================] - 0s 44ms/step\n",
      "Predicted summary:  great coffee\n",
      "\n",
      "\n",
      "Review: syrup absolutely wonderful amazing authentic blackberry flavor husband uses everyday iced tea packaged well shipped promptly highly recommend product \n",
      "Original summary: monin blackberry syrup \n",
      "1/1 [==============================] - 0s 352ms/step\n",
      "1/1 [==============================] - 0s 37ms/step\n",
      "1/1 [==============================] - 0s 38ms/step\n",
      "1/1 [==============================] - 0s 38ms/step\n",
      "Predicted summary:  great syrup\n",
      "\n",
      "\n",
      "Review: husband loves pretty good moist like real jerky sense otherwise texture similar wish variety sweet definitely recommend trying getting entire package luckily got try good \n",
      "Original summary: pretty good \n",
      "1/1 [==============================] - 0s 358ms/step\n",
      "1/1 [==============================] - 0s 38ms/step\n",
      "1/1 [==============================] - 0s 38ms/step\n",
      "1/1 [==============================] - 0s 38ms/step\n",
      "Predicted summary:  great taste\n",
      "\n",
      "\n",
      "Review: flavor okay hoping spicy cardamon clove flavor \n",
      "Original summary: mostly pepper flavor \n",
      "1/1 [==============================] - 0s 362ms/step\n",
      "1/1 [==============================] - 0s 39ms/step\n",
      "1/1 [==============================] - 0s 39ms/step\n",
      "1/1 [==============================] - 0s 39ms/step\n",
      "Predicted summary:  not bad\n",
      "\n",
      "\n",
      "Review: pods fit senseo machines unless use double holder even coffee like water flavor would fine stronger also several pods broken opened individual bags \n",
      "Original summary: weak \n",
      "1/1 [==============================] - 0s 365ms/step\n",
      "1/1 [==============================] - 0s 40ms/step\n",
      "1/1 [==============================] - 0s 40ms/step\n",
      "1/1 [==============================] - 0s 50ms/step\n",
      "Predicted summary:  not bad\n",
      "\n",
      "\n",
      "Review: order box week keep demand around slim jims far best snack food today \n",
      "Original summary: gets even better with each order \n",
      "1/1 [==============================] - 0s 366ms/step\n",
      "1/1 [==============================] - 0s 38ms/step\n",
      "1/1 [==============================] - 0s 38ms/step\n",
      "1/1 [==============================] - 0s 40ms/step\n",
      "Predicted summary:  great snack\n",
      "\n",
      "\n",
      "Review: use ground chicken love right amount chipotle smokiness without top heat little sweetness make taco salads enchiladas burritos plain good stuff try regret \n",
      "Original summary: truly great flavor \n",
      "1/1 [==============================] - 0s 367ms/step\n",
      "1/1 [==============================] - 0s 40ms/step\n",
      "1/1 [==============================] - 0s 41ms/step\n",
      "1/1 [==============================] - 0s 41ms/step\n",
      "Predicted summary:  great product\n",
      "\n",
      "\n",
      "Review: sorry person reviewed received crumbles tried every crispbread market nutritious wonderfully flavorful delicious nd place would put sunflower seed ones \n",
      "Original summary: best crispbread on the market \n",
      "1/1 [==============================] - 0s 363ms/step\n",
      "1/1 [==============================] - 0s 38ms/step\n",
      "1/1 [==============================] - 0s 38ms/step\n",
      "Predicted summary:  delicious\n",
      "\n",
      "\n",
      "Review: tastes like much milder version honey nut cheerios bigger crunch say eating little hearts morning definitely staple cabinet good dry milk kids like \n",
      "Original summary: better than cheerios \n",
      "1/1 [==============================] - 0s 347ms/step\n",
      "1/1 [==============================] - 0s 43ms/step\n",
      "1/1 [==============================] - 0s 39ms/step\n",
      "1/1 [==============================] - 0s 47ms/step\n",
      "Predicted summary:  great snack\n",
      "\n",
      "\n",
      "Review: love product ended going recommended friends family read reviews online went ahead purchase product great litter box simple clean smell smell feeding cat wrong food try something else shocked \n",
      "Original summary: does not smell \n",
      "1/1 [==============================] - 0s 359ms/step\n",
      "1/1 [==============================] - 0s 47ms/step\n",
      "1/1 [==============================] - 0s 38ms/step\n",
      "1/1 [==============================] - 0s 39ms/step\n",
      "Predicted summary:  great product\n",
      "\n",
      "\n",
      "Review: like good red beer cup zing zang oz favorite beer little dash lime salt top best red beer ever zing zang pricey bought locally totally worth \n",
      "Original summary: makes the best red beer ever \n",
      "1/1 [==============================] - 0s 352ms/step\n",
      "1/1 [==============================] - 0s 40ms/step\n",
      "1/1 [==============================] - 0s 40ms/step\n",
      "1/1 [==============================] - 0s 38ms/step\n",
      "Predicted summary:  great flavor\n",
      "\n",
      "\n",
      "Review: girlfriend found little gem tea years ago always small box enjoyed saw ginormous pack amazon figured way would go teabags great flavor nice every day tea get \n",
      "Original summary: good tea for cheap \n",
      "1/1 [==============================] - 0s 363ms/step\n",
      "1/1 [==============================] - 0s 38ms/step\n",
      "1/1 [==============================] - 0s 39ms/step\n",
      "1/1 [==============================] - 0s 40ms/step\n",
      "Predicted summary:  great tea\n",
      "\n",
      "\n",
      "Review: sure fuss thought good coffee better store brand usually buy store brand much cheaper stick bad coffee seeing better \n",
      "Original summary: so so \n",
      "1/1 [==============================] - 0s 381ms/step\n",
      "1/1 [==============================] - 0s 39ms/step\n",
      "1/1 [==============================] - 0s 38ms/step\n",
      "1/1 [==============================] - 0s 40ms/step\n",
      "Predicted summary:  great coffee\n",
      "\n",
      "\n",
      "Review: found better place buy iams lb lb amazon cheapest place buy \n",
      "Original summary: cheaper than mart \n",
      "1/1 [==============================] - 0s 363ms/step\n",
      "1/1 [==============================] - 0s 38ms/step\n",
      "1/1 [==============================] - 0s 42ms/step\n",
      "1/1 [==============================] - 0s 37ms/step\n",
      "Predicted summary:  great product\n",
      "\n",
      "\n",
      "Review: used buy inspired cuisine mousse mix milk chocolate ounce boxes grocery store expensive decided give brand try since cheaper tastes love mousse try dark chocolate next \n",
      "Original summary: yum \n",
      "1/1 [==============================] - 0s 358ms/step\n",
      "1/1 [==============================] - 0s 55ms/step\n",
      "1/1 [==============================] - 0s 179ms/step\n",
      "1/1 [==============================] - 0s 87ms/step\n",
      "Predicted summary:  great chocolate\n",
      "\n",
      "\n",
      "Review: zevia arrived promptly perfect condition satisfied purchase would purchase good opportunity sample flavors many available retail grocery stores area \n",
      "Original summary: zevia review \n",
      "1/1 [==============================] - 0s 352ms/step\n",
      "1/1 [==============================] - 0s 167ms/step\n",
      "1/1 [==============================] - 0s 97ms/step\n",
      "1/1 [==============================] - 0s 38ms/step\n",
      "Predicted summary:  great gift\n",
      "\n",
      "\n",
      "Review: omg definitly best cereal ever breakfast snack gooood coconut whole grain good time must buy \n",
      "Original summary: best cereal ever \n",
      "1/1 [==============================] - 0s 386ms/step\n",
      "1/1 [==============================] - 0s 129ms/step\n",
      "1/1 [==============================] - 0s 47ms/step\n",
      "1/1 [==============================] - 0s 42ms/step\n",
      "Predicted summary:  great cereal\n",
      "\n",
      "\n",
      "Review: loved filling frosting way much made whole thing sweet wound scraping frosting layer eating sadly wasted part crust frosted would perfect buy \n",
      "Original summary: way too sweet \n",
      "1/1 [==============================] - 0s 359ms/step\n",
      "1/1 [==============================] - 0s 39ms/step\n",
      "1/1 [==============================] - 0s 40ms/step\n",
      "1/1 [==============================] - 0s 40ms/step\n",
      "Predicted summary:  great taste\n",
      "\n",
      "\n",
      "Review: mind fine caramel creamy melting grainy flavor fine although little sweet taste \n",
      "Original summary: not creamy \n",
      "1/1 [==============================] - 0s 359ms/step\n",
      "1/1 [==============================] - 0s 39ms/step\n",
      "1/1 [==============================] - 0s 37ms/step\n",
      "1/1 [==============================] - 0s 39ms/step\n",
      "1/1 [==============================] - 0s 52ms/step\n",
      "Predicted summary:  not so good\n",
      "\n",
      "\n",
      "Review: product good great hand add hot cocoa good experience seller \n",
      "Original summary: product good seller bad \n",
      "1/1 [==============================] - 0s 358ms/step\n",
      "1/1 [==============================] - 0s 37ms/step\n",
      "1/1 [==============================] - 0s 43ms/step\n",
      "1/1 [==============================] - 0s 40ms/step\n",
      "Predicted summary:  hot cocoa\n",
      "\n",
      "\n",
      "Review: cannot find product store pleased able get amazon \n",
      "Original summary: pleased \n",
      "1/1 [==============================] - 0s 370ms/step\n",
      "1/1 [==============================] - 0s 42ms/step\n",
      "1/1 [==============================] - 0s 40ms/step\n",
      "1/1 [==============================] - 0s 38ms/step\n",
      "Predicted summary:  great product\n",
      "\n",
      "\n",
      "Review: angel food cake mix americanized extreme full chemicals way much sugar use duncan mix find half sugar \n",
      "Original summary: sweet \n",
      "1/1 [==============================] - 0s 366ms/step\n",
      "1/1 [==============================] - 0s 38ms/step\n",
      "1/1 [==============================] - 0s 44ms/step\n",
      "1/1 [==============================] - 0s 37ms/step\n",
      "Predicted summary:  not bad\n",
      "\n",
      "\n",
      "Review: jersey boys knew came delight growing time child found say thank \n",
      "Original summary: best sauce ever \n",
      "1/1 [==============================] - 0s 363ms/step\n",
      "1/1 [==============================] - 0s 39ms/step\n",
      "1/1 [==============================] - 0s 38ms/step\n",
      "Predicted summary:  great\n",
      "\n",
      "\n",
      "Review: bought first jar estate sale gone went looking could find anywhere except site good especially chicken used pieces oven highly recommend \n",
      "Original summary: chicken rub \n",
      "1/1 [==============================] - 0s 354ms/step\n",
      "1/1 [==============================] - 0s 37ms/step\n",
      "1/1 [==============================] - 0s 38ms/step\n",
      "1/1 [==============================] - 0s 39ms/step\n",
      "Predicted summary:  great product\n",
      "\n",
      "\n",
      "Review: totally delicious really taste like light chocolate mousse wish stores \n",
      "Original summary: delicious \n",
      "1/1 [==============================] - 0s 354ms/step\n",
      "1/1 [==============================] - 0s 45ms/step\n",
      "1/1 [==============================] - 0s 41ms/step\n",
      "Predicted summary:  delicious\n",
      "\n",
      "\n",
      "Review: know cans air buy clean things try turning one cans upside spraying poop couple seconds works great knife lifts right carpet \n",
      "Original summary: down canned air \n",
      "1/1 [==============================] - 0s 361ms/step\n",
      "1/1 [==============================] - 0s 38ms/step\n",
      "1/1 [==============================] - 0s 41ms/step\n",
      "1/1 [==============================] - 0s 39ms/step\n",
      "Predicted summary:  great product\n",
      "\n",
      "\n",
      "Review: love sooo kids great texture taste kids love eat plain sauce fall apart easy cook \n",
      "Original summary: yummy \n",
      "1/1 [==============================] - 0s 362ms/step\n",
      "1/1 [==============================] - 0s 41ms/step\n",
      "1/1 [==============================] - 0s 39ms/step\n",
      "1/1 [==============================] - 0s 45ms/step\n",
      "Predicted summary:  great snack\n",
      "\n",
      "\n",
      "Review: kid favorite cereal life hardly keep pantry though four pack auto order perfect crushed ended mostly crumbs went back buying supermarket total bummer \n",
      "Original summary: wish this would have worked out \n",
      "1/1 [==============================] - 0s 373ms/step\n",
      "1/1 [==============================] - 0s 40ms/step\n",
      "1/1 [==============================] - 0s 38ms/step\n",
      "1/1 [==============================] - 0s 39ms/step\n",
      "Predicted summary:  good cereal\n",
      "\n",
      "\n",
      "Review: tea excellent flavor straight green tea happy see msg related additives ingredients listed nothing extra \n",
      "Original summary: excellent flavor \n",
      "1/1 [==============================] - 0s 357ms/step\n",
      "1/1 [==============================] - 0s 46ms/step\n",
      "1/1 [==============================] - 0s 37ms/step\n",
      "Predicted summary:  tea\n",
      "\n",
      "\n",
      "Review: quit suprised big tug war toy opened two pit bulls love read stated good dogs shake throw around already purchasing one dog loves try give dog crate \n",
      "Original summary: big tug toy \n",
      "1/1 [==============================] - 0s 364ms/step\n",
      "1/1 [==============================] - 0s 38ms/step\n",
      "1/1 [==============================] - 0s 40ms/step\n",
      "1/1 [==============================] - 0s 39ms/step\n",
      "1/1 [==============================] - 0s 44ms/step\n",
      "1/1 [==============================] - 0s 45ms/step\n",
      "Predicted summary:  my dog loves these\n",
      "\n",
      "\n",
      "Review: treats time favorite hounds \n",
      "Original summary: favorite treat \n",
      "1/1 [==============================] - 0s 361ms/step\n",
      "1/1 [==============================] - 0s 37ms/step\n",
      "1/1 [==============================] - 0s 36ms/step\n",
      "1/1 [==============================] - 0s 36ms/step\n",
      "Predicted summary:  great treats\n",
      "\n",
      "\n",
      "Review: bought sale expecting good instant oatmeal usually delicious pouch makes easy make \n",
      "Original summary: very creamy \n",
      "1/1 [==============================] - 0s 352ms/step\n",
      "1/1 [==============================] - 0s 36ms/step\n",
      "1/1 [==============================] - 0s 45ms/step\n",
      "1/1 [==============================] - 0s 39ms/step\n",
      "Predicted summary:  great cereal\n",
      "\n",
      "\n",
      "Review: cookies taste great health conscious cookies believe two cookies added calories trans fat great taste unhealthy choice \n",
      "Original summary: great cookies with too much unhealthy stuff \n",
      "1/1 [==============================] - 0s 348ms/step\n",
      "1/1 [==============================] - 0s 38ms/step\n",
      "1/1 [==============================] - 0s 42ms/step\n",
      "1/1 [==============================] - 0s 38ms/step\n",
      "Predicted summary:  great cookies\n",
      "\n",
      "\n",
      "Review: purchased item birthday party kids loved sour leave hands sticky flavor good \n",
      "Original summary: haribo sour \n",
      "1/1 [==============================] - 0s 345ms/step\n",
      "1/1 [==============================] - 0s 45ms/step\n",
      "1/1 [==============================] - 0s 43ms/step\n",
      "1/1 [==============================] - 0s 44ms/step\n",
      "Predicted summary:  great gift\n",
      "\n",
      "\n",
      "Review: purchased product friend loved buying may try one days \n",
      "Original summary: good stuff \n",
      "1/1 [==============================] - 0s 355ms/step\n",
      "1/1 [==============================] - 0s 37ms/step\n",
      "1/1 [==============================] - 0s 37ms/step\n",
      "Predicted summary:  great\n",
      "\n",
      "\n",
      "Review: fun kitchen experience adult child children metal box good treasure box advertised baked four year old although certainly needed adult supervision experience fun us mention cupcakes delicious \n",
      "Original summary: galore \n",
      "1/1 [==============================] - 0s 362ms/step\n",
      "1/1 [==============================] - 0s 37ms/step\n",
      "1/1 [==============================] - 0s 37ms/step\n",
      "1/1 [==============================] - 0s 43ms/step\n",
      "Predicted summary:  great gift\n",
      "\n",
      "\n",
      "Review: gave boyfriend boss christmas assumed liked wooden crate soup come attractive \n",
      "Original summary: soups on basket \n",
      "1/1 [==============================] - 0s 364ms/step\n",
      "1/1 [==============================] - 0s 39ms/step\n",
      "1/1 [==============================] - 0s 39ms/step\n",
      "1/1 [==============================] - 0s 37ms/step\n",
      "Predicted summary:  great gift\n",
      "\n",
      "\n",
      "Review: good shake turns sliced tomatoes salad like plain salt \n",
      "Original summary: basic for salads \n",
      "1/1 [==============================] - 0s 346ms/step\n",
      "1/1 [==============================] - 0s 38ms/step\n",
      "1/1 [==============================] - 0s 37ms/step\n",
      "1/1 [==============================] - 0s 39ms/step\n",
      "1/1 [==============================] - 0s 41ms/step\n",
      "1/1 [==============================] - 0s 40ms/step\n",
      "Predicted summary:  good but not great\n",
      "\n",
      "\n",
      "Review: month old puppy loves great training since calorie per treat according fromm website since dog small breed break treat pieces training easier chew quickly \n",
      "Original summary: puppy loves them \n",
      "1/1 [==============================] - 0s 362ms/step\n",
      "1/1 [==============================] - 0s 44ms/step\n",
      "1/1 [==============================] - 0s 41ms/step\n",
      "1/1 [==============================] - 0s 40ms/step\n",
      "1/1 [==============================] - 0s 39ms/step\n",
      "1/1 [==============================] - 0s 40ms/step\n",
      "Predicted summary:  my puppy loves these\n",
      "\n",
      "\n",
      "Review: tried one brownies one ate definitely raspberry flavor brownie absolutely delicious rich taste raspberry maybe taste ones \n",
      "Original summary: raspberry \n",
      "1/1 [==============================] - 0s 381ms/step\n",
      "1/1 [==============================] - 0s 40ms/step\n",
      "1/1 [==============================] - 0s 39ms/step\n",
      "1/1 [==============================] - 0s 39ms/step\n",
      "1/1 [==============================] - 0s 42ms/step\n",
      "Predicted summary:  best chocolate ever\n",
      "\n",
      "\n",
      "Review: always look forward home treats could picked elsewhere locations told cheaper time arrived time scheduled enjoyed family kids looking forward making coworkers soon good stuff wait get hands road \n",
      "Original summary: mix \n",
      "1/1 [==============================] - 0s 351ms/step\n",
      "1/1 [==============================] - 0s 38ms/step\n",
      "1/1 [==============================] - 0s 37ms/step\n",
      "1/1 [==============================] - 0s 42ms/step\n",
      "1/1 [==============================] - 0s 39ms/step\n",
      "Predicted summary:  great for training\n",
      "\n",
      "\n",
      "Review: love shampoo hair silky smells wonderful gone one washing color hair color brighter dull color rinsed washing definate thumbs \n",
      "Original summary: shampoo \n",
      "1/1 [==============================] - 0s 371ms/step\n",
      "1/1 [==============================] - 0s 41ms/step\n",
      "1/1 [==============================] - 0s 37ms/step\n",
      "1/1 [==============================] - 0s 38ms/step\n",
      "Predicted summary:  great product\n",
      "\n",
      "\n",
      "Review: say mary candy time favorite wish stores carried shipping product fast \n",
      "Original summary: the best old fashion candy \n",
      "1/1 [==============================] - 0s 356ms/step\n",
      "1/1 [==============================] - 0s 37ms/step\n",
      "1/1 [==============================] - 0s 43ms/step\n",
      "1/1 [==============================] - 0s 39ms/step\n",
      "Predicted summary:  great candy\n",
      "\n",
      "\n",
      "Review: great dog favorite seem healthy snack easy cut half want give smaller portion \n",
      "Original summary: dog is nuts about \n",
      "1/1 [==============================] - 0s 351ms/step\n",
      "1/1 [==============================] - 0s 44ms/step\n",
      "1/1 [==============================] - 0s 38ms/step\n",
      "1/1 [==============================] - 0s 41ms/step\n",
      "Predicted summary:  great treat\n",
      "\n",
      "\n",
      "Review: bought cheese mom loved would buy \n",
      "Original summary: awesome cheese \n",
      "1/1 [==============================] - 0s 363ms/step\n",
      "1/1 [==============================] - 0s 38ms/step\n",
      "1/1 [==============================] - 0s 44ms/step\n",
      "Predicted summary:  yummy\n",
      "\n",
      "\n",
      "Review: like every dr product tried great bought wholefoods sale ended per box oz cheaper get terms product quality great price may want consider buying store \n",
      "Original summary: great taste and texture \n",
      "1/1 [==============================] - 0s 368ms/step\n",
      "1/1 [==============================] - 0s 38ms/step\n",
      "1/1 [==============================] - 0s 39ms/step\n",
      "1/1 [==============================] - 0s 46ms/step\n",
      "Predicted summary:  great product\n",
      "\n",
      "\n",
      "Review: really enjoy syrup wonderful flavor purchase \n",
      "Original summary: satisfied customer \n",
      "1/1 [==============================] - 0s 357ms/step\n",
      "1/1 [==============================] - 0s 39ms/step\n",
      "1/1 [==============================] - 0s 39ms/step\n",
      "1/1 [==============================] - 0s 39ms/step\n",
      "Predicted summary:  great syrup\n",
      "\n",
      "\n",
      "Review: using similac advanced formula thought happy thought switching organic knowing baby getting little less exposure hormones chemicals regular formula worth \n",
      "Original summary: only the best \n",
      "1/1 [==============================] - 0s 356ms/step\n",
      "1/1 [==============================] - 0s 42ms/step\n",
      "1/1 [==============================] - 0s 39ms/step\n",
      "1/1 [==============================] - 0s 44ms/step\n",
      "Predicted summary:  great product\n",
      "\n",
      "\n",
      "Review: read several reviews product gave tried tried like work several bites even though know packed great proteins low calories going save emergency purposes daily workout \n",
      "Original summary: still had that smell \n",
      "1/1 [==============================] - 0s 361ms/step\n",
      "1/1 [==============================] - 0s 37ms/step\n",
      "1/1 [==============================] - 0s 39ms/step\n",
      "1/1 [==============================] - 0s 40ms/step\n",
      "Predicted summary:  not bad\n",
      "\n",
      "\n",
      "Review: remember trying one child spicy spat instantly ginger flavor overwhelmingly strong people seem love though suit palate \n",
      "Original summary: spicy \n",
      "1/1 [==============================] - 0s 370ms/step\n",
      "1/1 [==============================] - 0s 37ms/step\n",
      "1/1 [==============================] - 0s 41ms/step\n",
      "1/1 [==============================] - 0s 40ms/step\n",
      "Predicted summary:  not good\n",
      "\n",
      "\n",
      "Review: kids aged love cereal love sugary cinnamon toast cereals husband occasional bowl well loves love cereal \n",
      "Original summary: love this cereal \n",
      "1/1 [==============================] - 0s 360ms/step\n",
      "1/1 [==============================] - 0s 38ms/step\n",
      "1/1 [==============================] - 0s 37ms/step\n",
      "1/1 [==============================] - 0s 38ms/step\n",
      "Predicted summary:  great cereal\n",
      "\n",
      "\n",
      "Review: love kcups especially delicious green mountain nantucket blends however needs recycling plan put place quick every time use one feel bad \n",
      "Original summary: delicious coffee wish they were \n",
      "1/1 [==============================] - 0s 357ms/step\n",
      "1/1 [==============================] - 0s 43ms/step\n",
      "1/1 [==============================] - 0s 40ms/step\n",
      "1/1 [==============================] - 0s 38ms/step\n",
      "Predicted summary:  great coffee\n",
      "\n",
      "\n",
      "Review: hard find aluminum free baking powder local store small packages shipping makes price bit high convienient since buy bulk \n",
      "Original summary: baking powder \n",
      "1/1 [==============================] - 0s 351ms/step\n",
      "1/1 [==============================] - 0s 38ms/step\n",
      "1/1 [==============================] - 0s 39ms/step\n",
      "1/1 [==============================] - 0s 40ms/step\n",
      "Predicted summary:  great product\n",
      "\n",
      "\n",
      "Review: first time purchased particular brand vanilla normally would purchase large bottle found flavor wonderful glad bought like bake size bottle keep busy \n",
      "Original summary: vanilla flavor not weak as some are \n",
      "1/1 [==============================] - 0s 349ms/step\n",
      "1/1 [==============================] - 0s 38ms/step\n",
      "1/1 [==============================] - 0s 41ms/step\n",
      "1/1 [==============================] - 0s 41ms/step\n",
      "Predicted summary:  great product\n",
      "\n",
      "\n",
      "Review: plus grams protein bars smaller bars bland taste even different flavors taste much better choice clif protein bars also gms protein larger taste great \n",
      "Original summary: do not waste your money \n",
      "1/1 [==============================] - 0s 353ms/step\n",
      "1/1 [==============================] - 0s 38ms/step\n",
      "1/1 [==============================] - 0s 39ms/step\n",
      "1/1 [==============================] - 0s 37ms/step\n",
      "Predicted summary:  great snack\n",
      "\n",
      "\n",
      "Review: product arrived much sooner expected taste exactly like simple syrup could tell sugar free perfect diabetic simply counting calories wish ordered one bottle \n",
      "Original summary: sugar free simple syrup \n",
      "1/1 [==============================] - 0s 361ms/step\n",
      "1/1 [==============================] - 0s 39ms/step\n",
      "1/1 [==============================] - 0s 38ms/step\n",
      "1/1 [==============================] - 0s 38ms/step\n",
      "Predicted summary:  great syrup\n",
      "\n",
      "\n",
      "Review: cups brew excellent cup decaf tea wonderful fresh brewed taste seconds keurig brewer disappointed \n",
      "Original summary: twinings english breakfast tea \n",
      "1/1 [==============================] - 0s 365ms/step\n",
      "1/1 [==============================] - 0s 40ms/step\n",
      "1/1 [==============================] - 0s 39ms/step\n",
      "1/1 [==============================] - 0s 38ms/step\n",
      "Predicted summary:  great decaf\n",
      "\n",
      "\n",
      "Review: gluten free oatmeal delicious always think like apple cinnamon flavor better fast shipping exceptional pricing \n",
      "Original summary: delicious \n",
      "1/1 [==============================] - 0s 350ms/step\n",
      "1/1 [==============================] - 0s 39ms/step\n",
      "1/1 [==============================] - 0s 37ms/step\n",
      "1/1 [==============================] - 0s 43ms/step\n",
      "1/1 [==============================] - 0s 39ms/step\n",
      "1/1 [==============================] - 0s 39ms/step\n",
      "Predicted summary:  great gluten free snack\n",
      "\n",
      "\n",
      "Review: grandma cookies tasty enough eating healthy try \n",
      "Original summary: good quick snack or breakfast \n",
      "1/1 [==============================] - 0s 350ms/step\n",
      "1/1 [==============================] - 0s 45ms/step\n",
      "1/1 [==============================] - 0s 39ms/step\n",
      "1/1 [==============================] - 0s 38ms/step\n",
      "Predicted summary:  great cookies\n",
      "\n",
      "\n",
      "Review: crunch granola bar par every product clif name would imply crunch extremely delicious favorite granola bar nature valley definitely took cake simply put delicious \n",
      "Original summary: clif never me down \n",
      "1/1 [==============================] - 0s 349ms/step\n",
      "1/1 [==============================] - 0s 37ms/step\n",
      "1/1 [==============================] - 0s 40ms/step\n",
      "1/1 [==============================] - 0s 39ms/step\n",
      "Predicted summary:  great snack\n",
      "\n",
      "\n",
      "Review: horlicks used used making malts old days however sold company place england changed taste taste good making old fashioned malt hard mix hand however make good drink milk hot cold \n",
      "Original summary: different taste but good \n",
      "1/1 [==============================] - 0s 350ms/step\n",
      "1/1 [==============================] - 0s 38ms/step\n",
      "1/1 [==============================] - 0s 40ms/step\n",
      "1/1 [==============================] - 0s 44ms/step\n",
      "Predicted summary:  great product\n",
      "\n",
      "\n",
      "Review: ordered lavender use ice cream stems leaves husks strain ice cream lavender flavor cooking spreading two tablespoons trying pick dried flowers gave realizing non flower debris total \n",
      "Original summary: poor quality full of leaves and \n",
      "1/1 [==============================] - 0s 356ms/step\n",
      "1/1 [==============================] - 0s 43ms/step\n",
      "1/1 [==============================] - 0s 39ms/step\n",
      "1/1 [==============================] - 0s 38ms/step\n",
      "1/1 [==============================] - 0s 42ms/step\n",
      "1/1 [==============================] - 0s 38ms/step\n",
      "Predicted summary:  not worth the money\n",
      "\n",
      "\n",
      "Review: maybe dont like couscous stuff taste good rather hardy made hard get taste \n",
      "Original summary: yuk \n",
      "1/1 [==============================] - 0s 364ms/step\n",
      "1/1 [==============================] - 0s 39ms/step\n",
      "1/1 [==============================] - 0s 39ms/step\n",
      "1/1 [==============================] - 0s 37ms/step\n",
      "Predicted summary:  not bad\n",
      "\n",
      "\n",
      "Review: stuff delicious love already ordered second round right amount spice \n",
      "Original summary: love this stuff \n",
      "1/1 [==============================] - 0s 342ms/step\n",
      "1/1 [==============================] - 0s 40ms/step\n",
      "1/1 [==============================] - 0s 43ms/step\n",
      "Predicted summary:  delicious\n",
      "\n",
      "\n",
      "Review: need biscuit fix good costs much better way get book carb sugar new fat use cooked gluten flour secret make much less money \n",
      "Original summary: nice but too pricey \n",
      "1/1 [==============================] - 0s 346ms/step\n",
      "1/1 [==============================] - 0s 39ms/step\n",
      "1/1 [==============================] - 0s 38ms/step\n",
      "1/1 [==============================] - 0s 40ms/step\n",
      "1/1 [==============================] - 0s 41ms/step\n",
      "1/1 [==============================] - 0s 41ms/step\n",
      "Predicted summary:  good but not great\n",
      "\n",
      "\n"
     ]
    }
   ],
   "source": [
    "for i in range(0,100):\n",
    "    print(\"Review:\",seq2text(x_tr[i]))\n",
    "    print(\"Original summary:\",seq2summary(y_tr[i]))\n",
    "    print(\"Predicted summary:\",decode_sequence(x_tr[i].reshape(1,max_text_len)))\n",
    "    print(\"\\n\")"
   ]
  },
  {
   "cell_type": "markdown",
   "metadata": {
    "id": "OTkaYNjHW4lC"
   },
   "source": [
    " Even though the actual summary and the summary generated by our model do not match in terms of words, both of them are conveying the same meaning. Our model is able to generate a clear summary based on the context present in the text.\n",
    "\n",
    "\n",
    "\n",
    " \n",
    "\n"
   ]
  },
  {
   "cell_type": "markdown",
   "metadata": {
    "id": "wkqtbEHYTKUC"
   },
   "source": [
    "#Conclusion\n",
    "\n",
    "Here we have built our own Deep Learning Model from Scratch, we can still do a lot of things to improve the performance of the model such as \n",
    "\n",
    "1) Training with more dataset\n",
    "\n",
    "2) implementing a Bi-Directional LSTM model\n",
    "\n",
    "and many more\n",
    "\n",
    "But that's all for another day."
   ]
  }
 ],
 "metadata": {
  "accelerator": "GPU",
  "colab": {
   "collapsed_sections": [],
   "provenance": []
  },
  "gpuClass": "standard",
  "kernelspec": {
   "display_name": "Python 3 (ipykernel)",
   "language": "python",
   "name": "python3"
  },
  "language_info": {
   "codemirror_mode": {
    "name": "ipython",
    "version": 3
   },
   "file_extension": ".py",
   "mimetype": "text/x-python",
   "name": "python",
   "nbconvert_exporter": "python",
   "pygments_lexer": "ipython3",
   "version": "3.11.0"
  }
 },
 "nbformat": 4,
 "nbformat_minor": 1
}
